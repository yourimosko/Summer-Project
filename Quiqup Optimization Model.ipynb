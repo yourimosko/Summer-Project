{
 "cells": [
  {
   "cell_type": "markdown",
   "metadata": {},
   "source": [
    "# Code structure"
   ]
  },
  {
   "cell_type": "markdown",
   "metadata": {},
   "source": [
    "First, the relevant packages are imported and the code structure is initialized."
   ]
  },
  {
   "cell_type": "code",
   "execution_count": 2,
   "metadata": {
    "collapsed": true
   },
   "outputs": [],
   "source": [
    "import numpy as np\n",
    "import pandas as pd\n",
    "import os\n",
    "import math\n",
    "import random as rd\n",
    "import csv\n",
    "import matplotlib.pyplot as plt\n",
    "from gurobi import *\n",
    "from datetime import datetime, timedelta"
   ]
  },
  {
   "cell_type": "code",
   "execution_count": 3,
   "metadata": {
    "collapsed": true
   },
   "outputs": [],
   "source": [
    "def readFile(path):\n",
    "    file = open(path)\n",
    "    reader = csv.DictReader(file)\n",
    "    #file.close()\n",
    "    return reader"
   ]
  },
  {
   "cell_type": "code",
   "execution_count": 4,
   "metadata": {
    "collapsed": true
   },
   "outputs": [],
   "source": [
    "class Struct:\n",
    "    def __init__(self, **args):\n",
    "        self.__dict__.update(args)"
   ]
  },
  {
   "cell_type": "code",
   "execution_count": 5,
   "metadata": {
    "collapsed": true
   },
   "outputs": [],
   "source": [
    "def str_to_timedelta(str_value):\n",
    "    str_hour_part = str_value.split(' ')[-1].split('.')[0]\n",
    "    \n",
    "    time_format = '%H:%M:%S' if str_hour_part.count(\":\") == 2 else '%H:%M'\n",
    "    \n",
    "    time_value = datetime.strptime(str_hour_part, time_format).time()\n",
    "    return timedelta(hours=time_value.hour,\n",
    "                            minutes=time_value.minute,\n",
    "                            seconds=int(time_value.second))\n",
    "\n",
    "def compute_time(a, b):\n",
    "    a_timedelta = str_to_timedelta(a) if type(a) == str else a\n",
    "    b_timedelta = str_to_timedelta(b) if type(b) == str else b\n",
    "    \n",
    "    return a_timedelta + b_timedelta\n",
    "\n",
    "def compute_duration(nb_sec_a, nb_sec_b):\n",
    "    a_timedelta = timedelta(seconds=float(nb_sec_a))\n",
    "    b_timedelta = timedelta(seconds=float(nb_sec_b))\n",
    "    return a_timedelta + b_timedelta\n",
    "\n",
    "def compute_duration_difference(a, b):\n",
    "    a_timedelta = str_to_timedelta(a) if type(a) == str else a\n",
    "    b_timedelta = str_to_timedelta(b) if type(b) == str else b\n",
    "    \n",
    "    return a_timedelta - b_timedelta\n",
    "\n",
    "def adjust_for_midnight(td):\n",
    "    if td.seconds / 3600 < 4:\n",
    "        return td + timedelta(seconds=24*3600)\n",
    "    return td"
   ]
  },
  {
   "cell_type": "markdown",
   "metadata": {},
   "source": [
    "### Parameters\n",
    "Next, the parameters of the model are created."
   ]
  },
  {
   "cell_type": "code",
   "execution_count": 6,
   "metadata": {
    "collapsed": true
   },
   "outputs": [],
   "source": [
    "#time restriction for jobs with bike in seconds\n",
    "pickup_and_delivery_timeout_bike = 1200\n",
    "\n",
    "#SLA pickup and delivery time restriction in seconds\n",
    "SLA_time_restrictions = 15  \n",
    "\n",
    "#5000m radius search to allocate driver to job\n",
    "gm_radius = 5000"
   ]
  },
  {
   "cell_type": "markdown",
   "metadata": {},
   "source": [
    "# Definitions\n",
    "The classes are initiated, i.e. drivers (shifts), jobs, and routes."
   ]
  },
  {
   "cell_type": "markdown",
   "metadata": {},
   "source": [
    "### Drivers (i.e. shifts)\n",
    "The Drivers class gathers the following information about the drivers, i.e. shifts:\n",
    "- The first definition is a class attribute that collects the drivers/shifts' information provided in the Shifts dataset.\n",
    "- Then, ∀ *j* ∈ J with job_time *t*, and ∀ *d* ∈ D, **is_working_at_time** checks if *d* is operational at time *t*, i.e. if *t* falls within the shift of driver *d*.\n",
    "- Finally, ∀ *d* ∈ D, **get_time_table** allows to compute the jobs timetable of *d*. "
   ]
  },
  {
   "cell_type": "code",
   "execution_count": 7,
   "metadata": {},
   "outputs": [],
   "source": [
    "class Shift(Struct):\n",
    "    def __init__(self, disg_shift_id, disg_courier_id, transport, shift_start_time,\n",
    "                 shift_end_time, starting_loc_id, starting_lon, starting_lat):\n",
    "        self.disg_shift_id = disg_shift_id\n",
    "        self.disg_courier_id = disg_courier_id\n",
    "        self.transport = transport\n",
    "        self.shift_start_time = str_to_timedelta(shift_start_time)\n",
    "        self.shift_end_time = str_to_timedelta(shift_end_time)\n",
    "        \n",
    "        self.shift_start_time = adjust_for_midnight(self.shift_start_time)\n",
    "        self.shift_end_time = adjust_for_midnight(self.shift_end_time)\n",
    "        \n",
    "        self.starting_loc_id = starting_loc_id\n",
    "        self.starting_lon = starting_lon\n",
    "        self.starting_lat = starting_lat\n",
    "        \n",
    "        self.current_position = starting_loc_id\n",
    "        self.arrive_at = self.shift_start_time\n",
    "        \n",
    "        self.new_scheduled_jobs = []\n",
    "        self.old_scheduled_jobs = []\n",
    "\n",
    "    def is_working_at_time(self, job_time):\n",
    "        job_time_delta = str_to_timedelta(job_time) if type(job_time) == str else job_time\n",
    "        job_time_delta = adjust_for_midnight(job_time_delta)\n",
    "        return self.shift_start_time <= job_time_delta and job_time_delta <= self.shift_end_time\n",
    "    \n",
    "    def get_time_table(self):\n",
    "        res = ''\n",
    "        for job, route in self.new_scheduled_jobs:\n",
    "            res += str(job.new_started_at) + ' --> ' + str(job.new_completed_at) + '\\n'\n",
    "        return res"
   ]
  },
  {
   "cell_type": "code",
   "execution_count": 8,
   "metadata": {
    "collapsed": true
   },
   "outputs": [],
   "source": [
    "path_shift = 'Shiftsdataforselectedday_2.0.csv'\n",
    "shifts = [Shift(**row) for row in readFile(path_shift)]"
   ]
  },
  {
   "cell_type": "markdown",
   "metadata": {},
   "source": [
    "### Orders\n",
    "The Job class collects the following jobs information:\n",
    "- The **arrival_time** definition states that, ∀ *r* ∈ R, job *j* ∈ J has an arrival time which depends on *r*.\n",
    "- The **actual_total_time** property is a more objective total job time. As explained in the text, the actual waiting times of the drivers have been added to the route time estimate from the travel matrix dataset to render the total job time more acurate. \n",
    "- The **build_new_times** defines the starting time and the total time of a new job"
   ]
  },
  {
   "cell_type": "code",
   "execution_count": 9,
   "metadata": {
    "collapsed": true
   },
   "outputs": [],
   "source": [
    "class Job(Struct):\n",
    "    def arrival_time(self, route):\n",
    "        return route.arrival_time(self)\n",
    "    \n",
    "    @property\n",
    "    def actual_total_time(self):\n",
    "        end_job_time = self.job_completed_at if len(self.job_completed_at) > 0 else self.cancelled_at\n",
    "        return compute_duration_difference(end_job_time, self.started_at)\n",
    "    \n",
    "    def build_new_times(self, new_start, estimated_time):\n",
    "        self.new_started_at = new_start\n",
    "        self.new_actual_time = estimated_time\n",
    "        self.new_completed_at = compute_time(self.new_started_at, estimated_time)"
   ]
  },
  {
   "cell_type": "code",
   "execution_count": 10,
   "metadata": {
    "collapsed": true
   },
   "outputs": [],
   "source": [
    "path_job = 'Jobsdataforselectedday_2.0.csv'\n",
    "jobs = [Job(**row) for row in readFile(path_job)]"
   ]
  },
  {
   "cell_type": "markdown",
   "metadata": {},
   "source": [
    "### Routes\n",
    "The Routes class regroups the following routes information:\n",
    "- The **total_distance** property computes the total distance of a job ∀ *j* ∈ J by adding up the distance from the starting position of driver ∀ *d* ∈ D to the pickup position of *j* with the distance from the pickup of *j* to the drop-off of *j*\n",
    "- The **total_time** property computes the total time spent on the routes, i.e. start to pick-up, and pick-up to drop-off.\n",
    "- The **is_authorized** property sets the soft constraints of the model, i.e. the time constraints for SLAs and bike orders and the Genarating Match radius."
   ]
  },
  {
   "cell_type": "code",
   "execution_count": 11,
   "metadata": {
    "collapsed": true
   },
   "outputs": [],
   "source": [
    "class Route(Struct):\n",
    "    @property\n",
    "    def total_distance(self):\n",
    "        return float(self.distance_start_pickup) + float(self.distance_pickup_drop)\n",
    "    \n",
    "    @property\n",
    "    def total_time(self):\n",
    "        return compute_duration(self.duration_start_pickup, self.duration_pickup_drop)\n",
    "    \n",
    "    @property\n",
    "    def is_authorized(self):\n",
    "        \"\"\"if float(self.distance_start_pickup) > gm_radius:\n",
    "            return False\n",
    "        if self.MoT.lower() == 'bicycle' \\\n",
    "           and (float(self.duration_start_pickup) > pickup_and_delivery_timeout_bike \n",
    "                or float(self.duration_pickup_drop) > pickup_and_delivery_timeout_bike):\n",
    "            return False\n",
    "        \"\"\"\n",
    "        return True"
   ]
  },
  {
   "cell_type": "code",
   "execution_count": 12,
   "metadata": {
    "collapsed": true
   },
   "outputs": [],
   "source": [
    "path_route = 'youri_travel_matrix_2.0.csv'\n",
    "routes = [Route(**row) for row in readFile(path_route)]"
   ]
  },
  {
   "cell_type": "markdown",
   "metadata": {},
   "source": [
    "### Heuristic\n",
    "\n",
    "A heuristic to narrow down the search for the fastest route is applied. To do so, a subsest of routes is created, i.e. **dct_routes_subset**, and for every new job *j* ∈ J, the routes that match the pickup ID of *j* are added to this subset. This helps the system to find the best routes more efficiently as it reduces the number of routes to consider."
   ]
  },
  {
   "cell_type": "code",
   "execution_count": 13,
   "metadata": {
    "collapsed": true
   },
   "outputs": [],
   "source": [
    "dct_routes_subsets = {}\n",
    "dct_delayed_routes = {}"
   ]
  },
  {
   "cell_type": "code",
   "execution_count": 14,
   "metadata": {
    "collapsed": true
   },
   "outputs": [],
   "source": [
    "for route in routes:\n",
    "    pickup_id = route.pickup_loc_id\n",
    "    if not pickup_id in dct_routes_subsets:\n",
    "        dct_routes_subsets[pickup_id] = [route]\n",
    "    else:\n",
    "        dct_routes_subsets[pickup_id].append(route)"
   ]
  },
  {
   "cell_type": "markdown",
   "metadata": {},
   "source": [
    "- **get_actual_started_time** computes the earliest time driver *d* ∈ D can start job *j* ∈ J. It is either the start time of *j* if *d* is currently idle, otherwise, it is the arrival time of *d* at the drop-off location of its current job.\n",
    "\n",
    "- **compute_arrive_time** computes the arrival time of driver *d* ∈ D at the drop-off location of job *j* ∈ J, given that *d* uses route *r* ∈ R."
   ]
  },
  {
   "cell_type": "code",
   "execution_count": 15,
   "metadata": {
    "collapsed": true
   },
   "outputs": [],
   "source": [
    "def get_actual_started_time(job_start, shift_arrive_at):\n",
    "    return max(job_start, shift_arrive_at)\n",
    "\n",
    "def compute_arrive_time(job, shift, route):\n",
    "    a = str(route.total_time)\n",
    "    b = get_actual_started_time(str_to_timedelta(job.started_at), shift.arrive_at)\n",
    "\n",
    "    return compute_time(a, b)"
   ]
  },
  {
   "cell_type": "markdown",
   "metadata": {},
   "source": [
    "- Given the pickup location ID of job *j* ∈ J and driver *d* ∈ D, **get_route** returns the route selected to complete job *j*. The function ensures the starting location as well as the mode of transport of *d* match with the route's.\n",
    "\n",
    "- ∀ *j* ∈ J, **get_shift** returns the driver *d* ∈ D selected to complete *j*.  "
   ]
  },
  {
   "cell_type": "code",
   "execution_count": 16,
   "metadata": {
    "collapsed": true
   },
   "outputs": [],
   "source": [
    "def get_route(pickup_loc_id, shift):\n",
    "    for route in dct_routes_subsets[pickup_loc_id]:\n",
    "        if route.from_loc_id == shift.current_position and route.MoT.lower() == shift.transport.lower():\n",
    "            return route\n",
    "\n",
    "def get_shift(job):\n",
    "    for shift in shifts:\n",
    "        if shift.disg_courier_id == job.disg_courier_id and shift.is_working_at_time(job.started_at):\n",
    "            return shift "
   ]
  },
  {
   "cell_type": "markdown",
   "metadata": {},
   "source": [
    "# Model"
   ]
  },
  {
   "cell_type": "markdown",
   "metadata": {},
   "source": [
    "**Algorithm comments**:\n",
    "\n",
    "**[1]** First,  it checks if there are drivers working at the time t of job *j* ∈ J appears in the system. \n",
    "If there are drivers working, they are added to the **available_shifts** list.\n",
    "However, if there is not a driver available, *j* is added to a list of unsatisfied jobs due to unavailable drivers, i.e. **jobs_with_no_available**.\n",
    "\n",
    "\n",
    "**[2]** Then, the model searches for the routes of job *j* in the Travel Matrix dataset. \n",
    "If the routes of *j* are not found, *j* is added to a list of unsatisfied jobs due to routes not being found, i.e. **job_with_no_route**.\n",
    "However, if the model finds the routes corresponding to job *j*, and that the routes satisfy the previously defined set of constraints, the routes are selected and equal to **selected_route**.\n",
    "\n",
    "**[3]** Here, the drop-off time of job *j* is computed using the driver and routes selected above.\n",
    "\n",
    "**[4]** For every driver in **selected_shift** and every route in **selected_route**, assuming that these satisfy the bike, SLA, and GM radius constraints, the model computes the estimated arrival time of *j* and compares them. \n",
    "\n",
    "The smallest arrival time is selected as follows:\n",
    "If arrival time *n+1* is smaller than arrival time *n*, then the model will use *n+1* as the arrival time of *j* and thus select the corresponding driver and route. This aligns with the objective to minimize the delivery time of each job. \n",
    "\n",
    "**[5]** ∀ *j* and *j'* ∈ J and ∀ *d* ∈ D, assuming *d* is assigned to *j*, this condition modifies the starting location of another job *j'* of *d* to be the drop-off location of *j*. \n",
    "Additionally, it computes the time at which *d* will be able to start *j'*, by taking the maximum value between the time *j'* appears in the system and the arrival time of *d* at the drop-off location of *j*. In fact, it may be that driver *d* arrives to the drop-off of job *j* before or after being assigned to job *j'*.\n",
    "\n",
    "**[6]** Recall that the actual delivery times obtained from Quiqup's routing systems have been recalculated using the routes in the Travel Matrix dataset to remove biases in the analysis. \n",
    "This part of the code therefore computes these actual delivery times.\n",
    "Additionally, the actual waiting times recorded by Quiqup for each job have been added to the arrival time computed in **[3]** to compare the delivery times on a similar basis. "
   ]
  },
  {
   "cell_type": "code",
   "execution_count": 17,
   "metadata": {
    "scrolled": true
   },
   "outputs": [],
   "source": [
    "time_saved = timedelta(seconds=0)\n",
    "waiting_time = timedelta(seconds=0)\n",
    "not_found_routes = []\n",
    "not_found_shifts = []\n",
    "jobs_with_no_route = []\n",
    "jobs_with_no_available = []\n",
    "\n",
    "#[1]\n",
    "for job in jobs[2:]:\n",
    "    available_shifts = [shift for shift in shifts if shift.is_working_at_time(job.started_at)]\n",
    "    if len(available_shifts)==0:\n",
    "        jobs_with_no_available.append(job)\n",
    "        continue\n",
    "        \n",
    "#[2]\n",
    "    n = 0\n",
    "    selected_shift = available_shifts[n]\n",
    "    selected_route = get_route(job.pickup_loc_id, selected_shift)\n",
    "    \n",
    "    while selected_route == None:\n",
    "        n += 1\n",
    "        if n >= len(available_shifts):\n",
    "            jobs_with_no_route.append(job)\n",
    "            break\n",
    "        selected_shift = available_shifts[n]\n",
    "        route = get_route(job.pickup_loc_id, selected_shift)\n",
    "        if not selected_route == None:\n",
    "            if not route.is_authorized:\n",
    "                continue\n",
    "        selected_route = route\n",
    "     \n",
    "    if n >= len(available_shifts):\n",
    "        continue\n",
    "\n",
    "#[3]\n",
    "    selected_arrived = compute_arrive_time(job, selected_shift, selected_route)\n",
    "\n",
    "\n",
    "#[4]\n",
    "    for shift in available_shifts[n + 1:]:\n",
    "        shift_route = get_route(job.pickup_loc_id, shift)\n",
    "        if shift_route == None:\n",
    "            continue\n",
    "        elif not shift_route.is_authorized:\n",
    "            continue\n",
    "        \n",
    "        arrived = compute_arrive_time(job, shift, shift_route)\n",
    "        \n",
    "        if arrived <= selected_arrived:\n",
    "            selected_arrived = arrived\n",
    "            selected_route = shift_route\n",
    "            selected_shift = shift\n",
    "\n",
    "#[5]\n",
    "    selected_shift.current_location = job.drop_loc_id\n",
    "    selected_shift.new_scheduled_jobs.append((job, selected_route))\n",
    "    new_started_at = max(str_to_timedelta(job.started_at) \n",
    "                         if type(job.started_at) == str else job.started_at,\n",
    "                         str_to_timedelta(selected_shift.arrive_at) \n",
    "                         if type(selected_shift.arrive_at) == str else selected_shift.arrive_at)\n",
    "\n",
    "#[6]\n",
    "    selected_route_with_waiting_time = 0\n",
    "    old_selected_shift = get_shift(job)\n",
    "    \n",
    "    if old_selected_shift == None:\n",
    "        not_found_shifts.append(job)\n",
    "        selected_shift.arrive_at = compute_time(new_started_at, job.actual_total_time)\n",
    "        job.build_new_times(new_started_at, job.actual_total_time)\n",
    "    else:\n",
    "        old_route = get_route(job.pickup_loc_id, old_selected_shift)\n",
    "        old_selected_shift.old_scheduled_jobs.append((job, old_route))\n",
    "        if old_route == None:\n",
    "            not_found_routes.append(job)\n",
    "            selected_shift.arrive_at = compute_time(new_started_at, job.actual_total_time)\n",
    "            job.build_new_times(new_started_at, job.actual_total_time)\n",
    "        else:\n",
    "            waiting_time = job.actual_total_time - old_route.total_time\n",
    "            selected_route_with_waiting_time = selected_route.total_time + waiting_time\n",
    "            job.build_new_times(new_started_at, selected_route_with_waiting_time)\n",
    "            selected_shift.arrive_at = compute_time(new_started_at, selected_route_with_waiting_time)\n",
    "            time_saved += job.actual_total_time - selected_route_with_waiting_time\n",
    "    \n",
    "    #print(job.encr_job_id, selected_shift.disg_courier_id, selected_route.id,\n",
    "    #      job.job_kind, \"SLA\" if len(job.b2b_delivery_restrictions) > 0 else \"\", \n",
    "    #      selected_shift.transport, selected_route.total_time, selected_route_with_waiting_time)"
   ]
  },
  {
   "cell_type": "markdown",
   "metadata": {},
   "source": [
    "# Analysis"
   ]
  },
  {
   "cell_type": "markdown",
   "metadata": {},
   "source": [
    "### Missing data \n",
    "- **not_found_routes** are the routes from the Quiqup's actual data that could not be found in the Travel Matrix.\n",
    "- **not_found_shifts** are the drivers that have been assigned to a job before the start of their shift. It is assumed that these drivers have been assigned manually by Quiqup and thus have been removed by the model as they were not available when recomputing the delivery times of the jobs.\n",
    "- **jobs_with_no_route** are the jobs whom do not have routes in the Travel Matrix.\n",
    "- **jobs_with_no_available** are the jobs which can't be satisfied as there is no driver available."
   ]
  },
  {
   "cell_type": "code",
   "execution_count": 18,
   "metadata": {
    "scrolled": true
   },
   "outputs": [
    {
     "name": "stdout",
     "output_type": "stream",
     "text": [
      "460 22 13 0\n"
     ]
    }
   ],
   "source": [
    "print(len(not_found_routes), \n",
    "len(not_found_shifts), \n",
    "len(jobs_with_no_route), \n",
    "len(jobs_with_no_available)) "
   ]
  },
  {
   "cell_type": "markdown",
   "metadata": {},
   "source": [
    "### Bike timeout not satisfied"
   ]
  },
  {
   "cell_type": "code",
   "execution_count": 19,
   "metadata": {
    "collapsed": true
   },
   "outputs": [],
   "source": [
    "for shift in shifts:\n",
    "    if shift.transport.lower() == 'bicycle':\n",
    "        for job, route in shift.new_scheduled_jobs:\n",
    "            if route.total_time.seconds > 2400:\n",
    "                print(\"Bike timeout not satisfied for job\" + job.encr_job_id,\n",
    "                      route.duration_start_pickup, route.duration_pickup_drop, route.total_time.seconds)\n",
    "            pass"
   ]
  },
  {
   "cell_type": "markdown",
   "metadata": {},
   "source": [
    "### SLA timeout satisfied (actual data)"
   ]
  },
  {
   "cell_type": "code",
   "execution_count": 20,
   "metadata": {},
   "outputs": [
    {
     "name": "stdout",
     "output_type": "stream",
     "text": [
      "123\n"
     ]
    }
   ],
   "source": [
    "n=0\n",
    "for shift in shifts:\n",
    "    for job, route in shift.old_scheduled_jobs:\n",
    "        if job.b2b_delivery_restrictions.lower().endswith('sla'):\n",
    "            \n",
    "            if not route==None:\n",
    "                if job.actual_total_time.seconds <= 1800:\n",
    "                    n+=1\n",
    "                pass\n",
    "            else:\n",
    "                if job.actual_total_time.seconds <= 1800:\n",
    "                    n+=1\n",
    "                pass\n",
    "\n",
    "print(n)"
   ]
  },
  {
   "cell_type": "markdown",
   "metadata": {},
   "source": [
    "### SLA timeout satisfied (estimate with waiting time)"
   ]
  },
  {
   "cell_type": "code",
   "execution_count": 21,
   "metadata": {},
   "outputs": [
    {
     "data": {
      "text/plain": [
       "130"
      ]
     },
     "execution_count": 21,
     "metadata": {},
     "output_type": "execute_result"
    }
   ],
   "source": [
    "n=0\n",
    "for shift in shifts:\n",
    "    for job, route in shift.new_scheduled_jobs:\n",
    "        if not route==None:\n",
    "            \n",
    "            if job.b2b_delivery_restrictions.lower().endswith('sla'):\n",
    "                if job.new_actual_time.seconds <= 1800:\n",
    "                    n+=1\n",
    "                pass\n",
    "        else:\n",
    "            if job.actual_total_time.seconds <= 1800:\n",
    "                n+=1\n",
    "            pass\n",
    "n"
   ]
  },
  {
   "cell_type": "markdown",
   "metadata": {},
   "source": [
    "### SLA timeout satisfied (estimate without waiting time)"
   ]
  },
  {
   "cell_type": "code",
   "execution_count": 22,
   "metadata": {},
   "outputs": [
    {
     "name": "stdout",
     "output_type": "stream",
     "text": [
      "501\n"
     ]
    }
   ],
   "source": [
    "n=0\n",
    "for shift in shifts:\n",
    "    for job, route in shift.new_scheduled_jobs:\n",
    "        if not route==None:\n",
    "            \n",
    "            if job.b2b_delivery_restrictions.lower().endswith('sla'):\n",
    "                if route.total_time.seconds <= 1800:\n",
    "                    n+=1\n",
    "                pass\n",
    "print(n)"
   ]
  },
  {
   "cell_type": "markdown",
   "metadata": {},
   "source": [
    "### Time saved"
   ]
  },
  {
   "cell_type": "code",
   "execution_count": 23,
   "metadata": {
    "scrolled": false
   },
   "outputs": [
    {
     "name": "stdout",
     "output_type": "stream",
     "text": [
      "10:33:00.900000\n"
     ]
    }
   ],
   "source": [
    "print(time_saved)"
   ]
  },
  {
   "cell_type": "markdown",
   "metadata": {},
   "source": [
    "### Number of jobs per driver"
   ]
  },
  {
   "cell_type": "code",
   "execution_count": 24,
   "metadata": {},
   "outputs": [
    {
     "name": "stdout",
     "output_type": "stream",
     "text": [
      "{1: 2, 2: 3, 3: 12, 4: 17, 5: 10, 6: 0, 7: 11, 8: 4, 9: 12, 10: 17, 11: 6, 12: 7, 13: 6, 14: 8, 15: 10, 16: 4, 17: 2, 18: 0, 19: 0, 20: 14, 21: 1, 22: 0, 23: 6, 24: 16, 25: 5, 26: 0, 27: 0, 28: 17, 29: 9, 30: 0, 31: 9, 32: 0, 33: 0, 34: 3, 35: 14, 36: 0, 37: 18, 38: 7, 39: 2, 40: 3, 41: 3, 42: 4, 43: 6, 44: 4, 45: 4, 46: 2, 47: 5, 48: 7, 49: 5, 50: 10, 51: 0, 52: 0, 53: 11, 54: 1, 55: 8, 56: 11, 57: 0, 58: 4, 59: 5, 60: 7, 61: 2, 62: 13, 63: 4, 64: 7, 65: 4, 66: 1, 67: 4, 68: 3, 69: 4, 70: 2, 71: 5, 72: 0, 73: 1, 74: 0, 75: 4, 76: 0, 77: 2, 78: 3, 79: 9, 80: 0, 81: 3, 82: 6, 83: 0, 84: 6, 85: 8, 86: 0, 87: 6, 88: 6, 89: 11, 90: 0, 91: 5, 92: 0, 93: 8, 94: 0, 95: 6, 96: 0, 97: 14, 98: 1, 99: 14, 100: 0, 101: 4, 102: 8, 103: 4, 104: 2, 105: 9, 106: 0, 107: 15, 108: 5, 109: 1, 110: 0, 111: 13, 112: 10, 113: 5, 114: 3, 115: 3, 116: 0, 117: 4, 118: 0, 119: 6, 120: 0, 121: 11, 122: 7, 123: 0, 124: 5, 125: 1, 126: 6, 127: 6, 128: 1, 129: 0, 130: 5, 131: 7, 132: 2, 133: 1, 134: 2, 135: 2, 136: 2, 137: 0, 138: 1, 139: 0, 140: 0, 141: 4, 142: 1, 143: 0, 144: 12, 145: 5, 146: 0, 147: 8, 148: 0, 149: 1, 150: 10, 151: 0, 152: 4, 153: 0, 154: 7, 155: 4, 156: 5, 157: 13, 158: 7, 159: 7, 160: 7, 161: 0, 162: 0, 163: 0, 164: 0, 165: 14, 166: 0, 167: 4, 168: 2, 169: 5, 170: 7, 171: 6, 172: 0, 173: 12, 174: 4, 175: 0, 176: 17, 177: 11, 178: 9, 179: 11, 180: 1, 181: 3, 182: 14, 183: 7, 184: 1, 185: 3, 186: 14, 187: 0, 188: 0, 189: 0, 190: 0, 191: 9, 192: 8, 193: 15, 194: 0, 195: 7, 196: 6, 197: 3, 198: 0, 199: 1, 200: 5, 201: 1, 202: 0, 203: 0, 204: 0, 205: 0, 206: 0, 207: 0, 208: 0, 209: 14, 210: 5, 211: 0, 212: 0, 213: 0, 214: 0, 215: 0, 216: 0, 217: 5, 218: 5, 219: 5, 220: 1, 221: 0, 222: 6, 223: 0, 224: 1, 225: 11, 226: 0, 227: 0, 228: 1, 229: 0, 230: 11, 231: 6, 232: 6, 233: 0, 234: 0, 235: 0, 236: 5, 237: 10, 238: 6, 239: 0, 240: 4, 241: 5, 242: 5}\n"
     ]
    }
   ],
   "source": [
    "dict([(len(shift.new_scheduled_jobs), shift.disg_courier_id) for shift in shifts])\n",
    "s = list(set([int(shft.disg_courier_id) for shft in shifts]))\n",
    "s.sort()\n",
    "l = dict([(id, sum([len(shift.new_scheduled_jobs) for shift in shifts if int(shift.disg_courier_id)==id])) for id in s])\n",
    "print(l)"
   ]
  },
  {
   "cell_type": "markdown",
   "metadata": {},
   "source": [
    "### Number of jobs per driver | Estimate vs. Actual"
   ]
  },
  {
   "cell_type": "code",
   "execution_count": 25,
   "metadata": {},
   "outputs": [],
   "source": [
    "dict([(len(shift.new_scheduled_jobs),shift.disg_courier_id) for shift in shifts])\n",
    "s = list(set([int(shft.disg_courier_id) for shft in shifts]))\n",
    "s.sort()\n",
    "l = dict([(id, (sum([len(shift.new_scheduled_jobs) for shift in shifts if int(shift.disg_courier_id)==id]),\n",
    "                sum([len(shift.old_scheduled_jobs) for shift in shifts if int(shift.disg_courier_id)==id]))) for id in s])\n",
    "#print(\"\".join([\" \".join([str(i[0]), str(i[1][0]), str(i[1][1])]) + \"\\n\" for i in l.items()]))"
   ]
  },
  {
   "cell_type": "markdown",
   "metadata": {},
   "source": [
    "### Number of drivers used"
   ]
  },
  {
   "cell_type": "code",
   "execution_count": 26,
   "metadata": {
    "scrolled": true
   },
   "outputs": [
    {
     "name": "stdout",
     "output_type": "stream",
     "text": [
      "168\n",
      "220\n"
     ]
    }
   ],
   "source": [
    "print(len(set([shift.disg_courier_id for shift in shifts if len(shift.new_scheduled_jobs)>0])))\n",
    "print(len(set([shift.disg_courier_id for shift in shifts if len(shift.old_scheduled_jobs)>0])))"
   ]
  },
  {
   "cell_type": "markdown",
   "metadata": {},
   "source": [
    "### Jobs done per driver | Estimate vs. Actual\n",
    "Here shown with driver 1 for example."
   ]
  },
  {
   "cell_type": "code",
   "execution_count": 27,
   "metadata": {},
   "outputs": [
    {
     "name": "stdout",
     "output_type": "stream",
     "text": [
      "['aa161b26e5a1c422b2eabcb155b58c0c', 'e32fd9aee5a6382defb5e12f2a5ebb35', '657fe4431527fa59e6a8fa17a2138871', '1a1e7a1fd65e425e878458d828367619', '51773522f54e9b3f207f4521cf024ce6', '5f2dede02d58d4c96575a828ea820f94', '4c96d89b861e632ea0aeb8eb033ccbc5', '1de4cd2f9008b7ca46359b001f52f408', '18e6c71b5fbf2132adfcbd515e45a4dc', '6fab5a5bbf393d0bf85b9eadff66a820']\n",
      "10\n",
      "150\n",
      "['aa161b26e5a1c422b2eabcb155b58c0c', 'a620bbde44f005d5b4c36060de57e5fb', '60a06f168b084c7c57c4a4a386f09b2e', 'a6253e025fcdc8dd72be13ecf7731c4e', '4d35c37f25e350b982df5687ef63a369']\n",
      "5\n",
      "150\n"
     ]
    }
   ],
   "source": [
    "driver_id = 1\n",
    "print([job.encr_job_id for job, route in shifts[driver_id].new_scheduled_jobs])\n",
    "print(len([job.encr_job_id for job, route in shifts[driver_id].new_scheduled_jobs]))\n",
    "print(shifts[driver_id].disg_courier_id)\n",
    "\n",
    "print([job.encr_job_id for job, route in shifts[driver_id].old_scheduled_jobs])\n",
    "print(len([job.encr_job_id for job, route in shifts[driver_id].old_scheduled_jobs]))\n",
    "print(shifts[driver_id].disg_courier_id)"
   ]
  },
  {
   "cell_type": "markdown",
   "metadata": {},
   "source": [
    "### Job time table per driver\n",
    "Here shown with driver 1 for example."
   ]
  },
  {
   "cell_type": "code",
   "execution_count": 28,
   "metadata": {
    "scrolled": false
   },
   "outputs": [
    {
     "name": "stdout",
     "output_type": "stream",
     "text": [
      "12:21:05 --> 13:23:15\n",
      "13:23:30 --> 14:46:19.800000\n",
      "14:46:19.800000 --> 15:39:29\n",
      "15:50:46 --> 16:45:01\n",
      "16:52:06 --> 18:20:34\n",
      "18:26:25 --> 19:32:45.100000\n",
      "19:36:59 --> 20:54:28.800000\n",
      "20:54:28.800000 --> 21:39:05.800000\n",
      "21:39:05.800000 --> 22:10:51.800000\n",
      "22:10:51.800000 --> 22:39:11.300000\n",
      "\n"
     ]
    }
   ],
   "source": [
    "print(shifts[driver_id].get_time_table())"
   ]
  },
  {
   "cell_type": "markdown",
   "metadata": {},
   "source": [
    "### Average number of jobs per driver | Estimate vs. Actual"
   ]
  },
  {
   "cell_type": "code",
   "execution_count": 29,
   "metadata": {},
   "outputs": [
    {
     "data": {
      "text/plain": [
       "7.214285714285714"
      ]
     },
     "execution_count": 29,
     "metadata": {},
     "output_type": "execute_result"
    }
   ],
   "source": [
    "def mean(numbers):\n",
    "    return float(sum(numbers)) / max(len(numbers), 1)\n",
    "\n",
    "mean(dict([(len(shift.new_scheduled_jobs),shift.disg_courier_id) for shift in shifts]))"
   ]
  },
  {
   "cell_type": "code",
   "execution_count": 30,
   "metadata": {
    "scrolled": true
   },
   "outputs": [
    {
     "data": {
      "text/plain": [
       "6.384615384615385"
      ]
     },
     "execution_count": 30,
     "metadata": {},
     "output_type": "execute_result"
    }
   ],
   "source": [
    "mean(dict([(len(shift.old_scheduled_jobs),shift.disg_courier_id) for shift in shifts]))"
   ]
  },
  {
   "cell_type": "markdown",
   "metadata": {},
   "source": [
    "### Shift hours saved from Estimate model\n",
    "This is the number of shift hours saved if drivers that do not have any job are removed from the fleet."
   ]
  },
  {
   "cell_type": "code",
   "execution_count": 31,
   "metadata": {},
   "outputs": [
    {
     "data": {
      "text/plain": [
       "665.3833333333333"
      ]
     },
     "execution_count": 31,
     "metadata": {},
     "output_type": "execute_result"
    }
   ],
   "source": [
    "l = [shift for shift in shifts if len(shift.new_scheduled_jobs)==0]\n",
    "sum([compute_duration_difference(shift.shift_end_time, shift.shift_start_time).seconds for shift in l])/3600"
   ]
  },
  {
   "cell_type": "markdown",
   "metadata": {},
   "source": [
    "### Difference in shift hours saved between Estimate vs. Actual\n",
    "This is the number of shift hours saved if drivers that do not have any job are removed from the fleet."
   ]
  },
  {
   "cell_type": "code",
   "execution_count": 32,
   "metadata": {},
   "outputs": [
    {
     "data": {
      "text/plain": [
       "467.29999999999995"
      ]
     },
     "execution_count": 32,
     "metadata": {},
     "output_type": "execute_result"
    }
   ],
   "source": [
    "l = [shift for shift in shifts if len(shift.new_scheduled_jobs)==0]\n",
    "snew = sum([compute_duration_difference(shift.shift_end_time, shift.shift_start_time).seconds for shift in l])/3600\n",
    "\n",
    "l = [shift for shift in shifts if len(shift.old_scheduled_jobs)==0]\n",
    "sold = sum([compute_duration_difference(shift.shift_end_time, shift.shift_start_time).seconds for shift in l])/3600\n",
    "\n",
    "snew-sold"
   ]
  },
  {
   "cell_type": "markdown",
   "metadata": {},
   "source": [
    "### Number of active drivers by 30-minute period (i.e. drivers that have had a job within that period)\n",
    "### Real vs. Estimate vs. Actual"
   ]
  },
  {
   "cell_type": "code",
   "execution_count": 33,
   "metadata": {},
   "outputs": [
    {
     "name": "stdout",
     "output_type": "stream",
     "text": [
      "0:00:00 18 3 3 0\n",
      "0:30:00 17 4 5 1\n",
      "1:00:00 17 1 1 0\n",
      "1:30:00 0 0 0 0\n",
      "8:00:00 25 4 4 0\n",
      "8:30:00 27 6 6 0\n",
      "9:00:00 29 10 8 -2\n",
      "9:30:00 31 9 9 0\n",
      "10:00:00 40 14 15 1\n",
      "10:30:00 41 17 19 2\n",
      "11:00:00 48 20 19 -1\n",
      "11:30:00 48 16 15 -1\n",
      "12:00:00 136 51 49 -2\n",
      "12:30:00 141 49 58 9\n",
      "13:00:00 139 51 60 9\n",
      "13:30:00 140 56 66 10\n",
      "14:00:00 142 55 65 10\n",
      "14:30:00 140 54 66 12\n",
      "15:00:00 136 58 65 7\n",
      "15:30:00 132 47 55 8\n",
      "16:00:00 133 68 71 3\n",
      "16:30:00 132 55 60 5\n",
      "17:00:00 181 75 82 7\n",
      "17:30:00 186 68 75 7\n",
      "18:00:00 192 80 90 10\n",
      "18:30:00 188 63 74 11\n",
      "19:00:00 190 68 81 13\n",
      "19:30:00 190 75 97 22\n",
      "20:00:00 177 80 94 14\n",
      "20:30:00 174 70 83 13\n",
      "21:00:00 123 77 87 10\n",
      "21:30:00 112 69 71 2\n",
      "22:00:00 61 46 59 13\n",
      "22:30:00 39 38 33 -5\n",
      "23:00:00 26 20 25 5\n",
      "23:30:00 22 8 8 0\n",
      "\n"
     ]
    }
   ],
   "source": [
    "def job_in_period(time_start, time_end, job):\n",
    "    started_at = str_to_timedelta(job.started_at)\n",
    "    completed_at = str_to_timedelta(job.job_completed_at) if len(job.job_completed_at)>0 else str_to_timedelta(job.cancelled_at)\n",
    "    \n",
    "    started_at = adjust_for_midnight(started_at)\n",
    "    completed_at = adjust_for_midnight(completed_at)\n",
    "    return (started_at > time_start and started_at < time_end) or (completed_at > time_start and completed_at < time_end)\n",
    "\n",
    "dct_tot = {}\n",
    "for i in range(8*3600, 24*3600, 1800):\n",
    "    td = timedelta(seconds=i)\n",
    "    dct_tot[int(td.seconds)] = len([shift for shift in shifts if shift.is_working_at_time(td + timedelta(seconds=0.25*3600))])\n",
    "\n",
    "for i in range(24*3600, 26*3600, 1800):\n",
    "    td = timedelta(seconds=i)\n",
    "    dct_tot[int(td.seconds)] = len([shift for shift in shifts if shift.is_working_at_time(td - timedelta(seconds=24*3600) + timedelta(seconds=0.25*3600))])\n",
    "\n",
    "dct_new = {}\n",
    "for i in range(8*3600, 24*3600, 1800):\n",
    "    td = timedelta(seconds=i)\n",
    "    dct_new[int(td.seconds)] = len([shift for shift in shifts if \n",
    "        len([job for job, route in shift.new_scheduled_jobs if job_in_period(td, td + timedelta(seconds=1800), job)])>0])\n",
    "    \n",
    "for i in range(24*3600, 26*3600, 1800):\n",
    "    td = timedelta(seconds=i)\n",
    "    dct_new[int(td.seconds)] = len([shift for shift in shifts if \n",
    "        len([job for job, route in shift.new_scheduled_jobs if job_in_period(td, td + timedelta(seconds=1800), job)])>0])\n",
    "\n",
    "dct_old = {}\n",
    "for i in range(8*3600, 24*3600, 1800):\n",
    "    td = timedelta(seconds=i)\n",
    "    dct_old[int(td.seconds)] = len([shift for shift in shifts if \n",
    "        len([job for job, route in shift.old_scheduled_jobs if job_in_period(td, td + timedelta(seconds=1800), job)])>0])\n",
    "    \n",
    "for i in range(24*3600, 26*3600, 1800):\n",
    "    td = timedelta(seconds=i)\n",
    "    dct_old[int(td.seconds)] = len([shift for shift in shifts if \n",
    "        len([job for job, route in shift.old_scheduled_jobs if job_in_period(td, td + timedelta(seconds=1800), job)])>0])\n",
    "\n",
    "l=[int(i) for i in list(dct_new.keys())]\n",
    "l.sort()\n",
    "l = [(timedelta(seconds=s), dct_tot[s], dct_new[s], dct_old[s]) for s in l]\n",
    "print(\"\".join([\" \".join([str(i[0]), str(i[1]), str(i[2]), str(i[3]), str(i[3]-i[2])]) + \"\\n\" for i in l]))\n",
    "x = [i[0].seconds/3600 for i in l]\n",
    "y1_act = [i[1] for i in l]\n",
    "y2_act = [i[2] for i in l]\n",
    "y3_act = [i[3] for i in l]"
   ]
  },
  {
   "cell_type": "markdown",
   "metadata": {},
   "source": [
    "### Number of inactive drivers by 30-minute period (i.e. drivers that have not had a job within that period)\n",
    "### Real vs. Estimate vs. Actual"
   ]
  },
  {
   "cell_type": "code",
   "execution_count": 34,
   "metadata": {},
   "outputs": [
    {
     "name": "stdout",
     "output_type": "stream",
     "text": [
      "0:00:00 18 15 15 0\n",
      "0:30:00 17 13 12 -1\n",
      "1:00:00 17 16 16 0\n",
      "1:30:00 0 0 0 0\n",
      "8:00:00 25 21 21 0\n",
      "8:30:00 27 21 21 0\n",
      "9:00:00 29 19 21 2\n",
      "9:30:00 31 22 22 0\n",
      "10:00:00 40 26 25 -1\n",
      "10:30:00 41 24 22 -2\n",
      "11:00:00 48 28 29 1\n",
      "11:30:00 48 32 33 1\n",
      "12:00:00 136 85 87 2\n",
      "12:30:00 141 92 83 -9\n",
      "13:00:00 139 88 79 -9\n",
      "13:30:00 140 84 74 -10\n",
      "14:00:00 142 87 77 -10\n",
      "14:30:00 140 86 74 -12\n",
      "15:00:00 136 78 71 -7\n",
      "15:30:00 132 85 77 -8\n",
      "16:00:00 133 65 62 -3\n",
      "16:30:00 132 77 72 -5\n",
      "17:00:00 181 106 99 -7\n",
      "17:30:00 186 118 111 -7\n",
      "18:00:00 192 112 102 -10\n",
      "18:30:00 188 125 114 -11\n",
      "19:00:00 190 122 109 -13\n",
      "19:30:00 190 115 93 -22\n",
      "20:00:00 177 97 83 -14\n",
      "20:30:00 174 104 91 -13\n",
      "21:00:00 123 46 36 -10\n",
      "21:30:00 112 43 41 -2\n",
      "22:00:00 61 15 2 -13\n",
      "22:30:00 39 1 6 5\n",
      "23:00:00 26 6 1 -5\n",
      "23:30:00 22 14 14 0\n",
      "\n"
     ]
    }
   ],
   "source": [
    "def job_in_period(time_start, time_end, job):\n",
    "    started_at = str_to_timedelta(job.started_at)\n",
    "    completed_at = str_to_timedelta(job.job_completed_at) if len(job.job_completed_at)>0 else str_to_timedelta(job.cancelled_at)\n",
    "    \n",
    "    started_at = adjust_for_midnight(started_at)\n",
    "    completed_at = adjust_for_midnight(completed_at)\n",
    "    return (started_at > time_start and started_at < time_end) or (completed_at > time_start and completed_at < time_end)\n",
    "\n",
    "dct_tot = {}\n",
    "for i in range(8*3600, 24*3600, 1800):\n",
    "    td = timedelta(seconds=i)\n",
    "    dct_tot[int(td.seconds)] = len([shift for shift in shifts if shift.is_working_at_time(td + timedelta(seconds=0.25*3600))])\n",
    "\n",
    "for i in range(24*3600, 26*3600, 1800):\n",
    "    td = timedelta(seconds=i)\n",
    "    dct_tot[int(td.seconds)] = len([shift for shift in shifts if shift.is_working_at_time(td - timedelta(seconds=24*3600) + timedelta(seconds=0.25*3600))])\n",
    "\n",
    "dct_new = {}\n",
    "for i in range(8*3600, 24*3600, 1800):\n",
    "    td = timedelta(seconds=i)\n",
    "    working_drivers = len([shift for shift in shifts if shift.is_working_at_time(td + timedelta(seconds=0.25*3600))])\n",
    "    occupied_drivers = len([shift for shift in shifts if \n",
    "        len([job for job, route in shift.new_scheduled_jobs if job_in_period(td, td + timedelta(seconds=1800), job)])>0])\n",
    "    dct_new[int(td.seconds)] = working_drivers - occupied_drivers\n",
    "    \n",
    "for i in range(24*3600, 26*3600, 1800):\n",
    "    td = timedelta(seconds=i)\n",
    "    working_drivers = len([shift for shift in shifts if shift.is_working_at_time(td - timedelta(seconds=24*3600) + timedelta(seconds=0.25*3600))])\n",
    "    occupied_drivers = len([shift for shift in shifts if \n",
    "        len([job for job, route in shift.new_scheduled_jobs if job_in_period(td, td + timedelta(seconds=1800), job)])>0])\n",
    "    dct_new[int(td.seconds)] = working_drivers - occupied_drivers\n",
    "\n",
    "dct_old = {}\n",
    "for i in range(8*3600, 24*3600, 1800):\n",
    "    td = timedelta(seconds=i)\n",
    "    working_drivers = len([shift for shift in shifts if shift.is_working_at_time(td + timedelta(seconds=0.25*3600))])\n",
    "    occupied_drivers = len([shift for shift in shifts if \n",
    "        len([job for job, route in shift.old_scheduled_jobs if job_in_period(td, td + timedelta(seconds=1800), job)])>0])\n",
    "    dct_old[int(td.seconds)] = working_drivers - occupied_drivers\n",
    "    \n",
    "for i in range(24*3600, 26*3600, 1800):\n",
    "    td = timedelta(seconds=i)\n",
    "    working_drivers = len([shift for shift in shifts if shift.is_working_at_time(td - timedelta(seconds=24*3600) + timedelta(seconds=0.25*3600))])\n",
    "    occupied_drivers = len([shift for shift in shifts if \n",
    "        len([job for job, route in shift.old_scheduled_jobs if job_in_period(td, td + timedelta(seconds=1800), job)])>0])\n",
    "    dct_old[int(td.seconds)] = working_drivers - occupied_drivers\n",
    "\n",
    "l=[int(i) for i in list(dct_new.keys())]\n",
    "l.sort()\n",
    "l = [(timedelta(seconds=s), dct_tot[s], dct_new[s], dct_old[s]) for s in l]\n",
    "print(\"\".join([\" \".join([str(i[0]), str(i[1]), str(i[2]), str(i[3]), str(i[3]-i[2])]) + \"\\n\" for i in l]))\n",
    "x = [i[0].seconds/3600 for i in l]\n",
    "y1_inact = [i[1] for i in l]\n",
    "y2_inact = [i[2] for i in l]\n",
    "y3_inact = [i[3] for i in l]\n",
    "\n"
   ]
  },
  {
   "cell_type": "markdown",
   "metadata": {},
   "source": [
    "### Graph: Difference in inactive drivers between Estimate and Actual data "
   ]
  },
  {
   "cell_type": "code",
   "execution_count": 35,
   "metadata": {
    "scrolled": false
   },
   "outputs": [
    {
     "data": {
      "image/png": "[encoded data removed]",
      "text/plain": [
       "<matplotlib.figure.Figure at 0x12b8c56d8>"
      ]
     },
     "metadata": {},
     "output_type": "display_data"
    }
   ],
   "source": [
    "plt.plot(x, y2_inact, label=\"New\")\n",
    "plt.plot(x, y3_inact, label=\"Actual\")\n",
    "plt.xlabel(\"Hours\")\n",
    "plt.ylabel(\"Inactive Drivers\")\n",
    "plt.title(\"Difference in inactive drivers between new and actual data\")\n",
    "plt.legend(loc='best')\n",
    "plt.show()"
   ]
  },
  {
   "cell_type": "markdown",
   "metadata": {},
   "source": [
    "### Graph: Difference in active drivers between Estimate and Actual data  "
   ]
  },
  {
   "cell_type": "code",
   "execution_count": 36,
   "metadata": {},
   "outputs": [
    {
     "data": {
      "image/png": "[encoded data removed]",
      "text/plain": [
       "<matplotlib.figure.Figure at 0x12bae76d8>"
      ]
     },
     "metadata": {},
     "output_type": "display_data"
    }
   ],
   "source": [
    "plt.plot(x, y2_act, label=\"New\")\n",
    "plt.plot(x, y3_act, label=\"Actual\")\n",
    "plt.xlabel(\"Hours\")\n",
    "plt.ylabel(\"Active Drivers\")\n",
    "plt.title(\"Difference in active drivers between new and actual data\")\n",
    "plt.legend(loc='best')\n",
    "plt.show()"
   ]
  }
 ],
 "metadata": {
  "anaconda-cloud": {},
  "kernelspec": {
   "display_name": "Python [default]",
   "language": "python",
   "name": "python3"
  },
  "language_info": {
   "codemirror_mode": {
    "name": "ipython",
    "version": 3
   },
   "file_extension": ".py",
   "mimetype": "text/x-python",
   "name": "python",
   "nbconvert_exporter": "python",
   "pygments_lexer": "ipython3",
   "version": "3.5.2"
  }
 },
 "nbformat": 4,
 "nbformat_minor": 1
}
