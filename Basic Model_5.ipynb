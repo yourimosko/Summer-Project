{
 "cells": [
  {
   "cell_type": "code",
   "execution_count": 48,
   "metadata": {},
   "outputs": [],
   "source": [
    "import numpy as np\n",
    "import pandas as pd\n",
    "import os\n",
    "import math\n",
    "import random\n",
    "import csv\n",
    "from gurobi import *\n",
    "#import solveengine\n",
    "#\n",
    "#print(solveengine.MIPModel(\"hhh\"))"
   ]
  },
  {
   "cell_type": "code",
   "execution_count": 2,
   "metadata": {
    "collapsed": true
   },
   "outputs": [],
   "source": [
    "m = Model(\"Quiqup\")"
   ]
  },
  {
   "cell_type": "markdown",
   "metadata": {},
   "source": [
    "# Travel Matrix "
   ]
  },
  {
   "cell_type": "code",
   "execution_count": 3,
   "metadata": {},
   "outputs": [
    {
     "data": {
      "text/html": [
       "<div>\n",
       "<table border=\"1\" class=\"dataframe\">\n",
       "  <thead>\n",
       "    <tr style=\"text-align: right;\">\n",
       "      <th></th>\n",
       "      <th>id</th>\n",
       "      <th>from_loc_id</th>\n",
       "      <th>from_lon</th>\n",
       "      <th>from_lat</th>\n",
       "      <th>pickup_loc_id</th>\n",
       "      <th>pickup_lon</th>\n",
       "      <th>pickup_lat</th>\n",
       "      <th>drop_loc_id</th>\n",
       "      <th>offset_drop_lon</th>\n",
       "      <th>offset_drop_lat</th>\n",
       "      <th>MoT</th>\n",
       "      <th>distance_start_pickup</th>\n",
       "      <th>duration_start_pickup</th>\n",
       "      <th>distance_pickup_drop</th>\n",
       "      <th>duration_pickup_drop</th>\n",
       "    </tr>\n",
       "  </thead>\n",
       "  <tbody>\n",
       "    <tr>\n",
       "      <th>0</th>\n",
       "      <td>1</td>\n",
       "      <td>4584882</td>\n",
       "      <td>-0.146036</td>\n",
       "      <td>51.522727</td>\n",
       "      <td>2173892</td>\n",
       "      <td>-0.182489</td>\n",
       "      <td>51.494415</td>\n",
       "      <td>3687551</td>\n",
       "      <td>-0.177908</td>\n",
       "      <td>51.490475</td>\n",
       "      <td>scooter</td>\n",
       "      <td>5342.6</td>\n",
       "      <td>509.3</td>\n",
       "      <td>614.8</td>\n",
       "      <td>60.5</td>\n",
       "    </tr>\n",
       "    <tr>\n",
       "      <th>1</th>\n",
       "      <td>2</td>\n",
       "      <td>1183446000</td>\n",
       "      <td>-0.245977</td>\n",
       "      <td>51.536949</td>\n",
       "      <td>4474343</td>\n",
       "      <td>-0.179382</td>\n",
       "      <td>51.416593</td>\n",
       "      <td>4585124</td>\n",
       "      <td>-0.171886</td>\n",
       "      <td>51.428223</td>\n",
       "      <td>scooter</td>\n",
       "      <td>17922.8</td>\n",
       "      <td>1680.5</td>\n",
       "      <td>1756.3</td>\n",
       "      <td>170.1</td>\n",
       "    </tr>\n",
       "    <tr>\n",
       "      <th>2</th>\n",
       "      <td>3</td>\n",
       "      <td>1183446000</td>\n",
       "      <td>-0.245977</td>\n",
       "      <td>51.536949</td>\n",
       "      <td>4474349</td>\n",
       "      <td>-0.206004</td>\n",
       "      <td>51.420597</td>\n",
       "      <td>4585234</td>\n",
       "      <td>-0.207966</td>\n",
       "      <td>51.406167</td>\n",
       "      <td>car</td>\n",
       "      <td>18935.6</td>\n",
       "      <td>2022.5</td>\n",
       "      <td>2406.9</td>\n",
       "      <td>292.1</td>\n",
       "    </tr>\n",
       "    <tr>\n",
       "      <th>3</th>\n",
       "      <td>4</td>\n",
       "      <td>1183446000</td>\n",
       "      <td>-0.245977</td>\n",
       "      <td>51.536949</td>\n",
       "      <td>4474382</td>\n",
       "      <td>-0.214428</td>\n",
       "      <td>51.555711</td>\n",
       "      <td>4586638</td>\n",
       "      <td>-0.240320</td>\n",
       "      <td>51.559694</td>\n",
       "      <td>bicycle</td>\n",
       "      <td>3800.1</td>\n",
       "      <td>959.4</td>\n",
       "      <td>2337.3</td>\n",
       "      <td>714.5</td>\n",
       "    </tr>\n",
       "    <tr>\n",
       "      <th>4</th>\n",
       "      <td>5</td>\n",
       "      <td>1183446000</td>\n",
       "      <td>-0.245977</td>\n",
       "      <td>51.536949</td>\n",
       "      <td>4474386</td>\n",
       "      <td>-0.124112</td>\n",
       "      <td>51.378221</td>\n",
       "      <td>4588375</td>\n",
       "      <td>-0.159019</td>\n",
       "      <td>51.361374</td>\n",
       "      <td>scooter</td>\n",
       "      <td>24190.2</td>\n",
       "      <td>2272.6</td>\n",
       "      <td>5829.1</td>\n",
       "      <td>561.0</td>\n",
       "    </tr>\n",
       "  </tbody>\n",
       "</table>\n",
       "</div>"
      ],
      "text/plain": [
       "   id  from_loc_id  from_lon   from_lat  pickup_loc_id  pickup_lon  \\\n",
       "0   1      4584882 -0.146036  51.522727        2173892   -0.182489   \n",
       "1   2   1183446000 -0.245977  51.536949        4474343   -0.179382   \n",
       "2   3   1183446000 -0.245977  51.536949        4474349   -0.206004   \n",
       "3   4   1183446000 -0.245977  51.536949        4474382   -0.214428   \n",
       "4   5   1183446000 -0.245977  51.536949        4474386   -0.124112   \n",
       "\n",
       "   pickup_lat  drop_loc_id  offset_drop_lon  offset_drop_lat      MoT  \\\n",
       "0   51.494415      3687551        -0.177908        51.490475  scooter   \n",
       "1   51.416593      4585124        -0.171886        51.428223  scooter   \n",
       "2   51.420597      4585234        -0.207966        51.406167      car   \n",
       "3   51.555711      4586638        -0.240320        51.559694  bicycle   \n",
       "4   51.378221      4588375        -0.159019        51.361374  scooter   \n",
       "\n",
       "   distance_start_pickup  duration_start_pickup  distance_pickup_drop  \\\n",
       "0                 5342.6                  509.3                 614.8   \n",
       "1                17922.8                 1680.5                1756.3   \n",
       "2                18935.6                 2022.5                2406.9   \n",
       "3                 3800.1                  959.4                2337.3   \n",
       "4                24190.2                 2272.6                5829.1   \n",
       "\n",
       "   duration_pickup_drop  \n",
       "0                  60.5  \n",
       "1                 170.1  \n",
       "2                 292.1  \n",
       "3                 714.5  \n",
       "4                 561.0  "
      ]
     },
     "execution_count": 3,
     "metadata": {},
     "output_type": "execute_result"
    }
   ],
   "source": [
    "path = 'youri_travel_matrix_2.0.csv'\n",
    "df = pd.read_csv(path)\n",
    "\n",
    "df.head()"
   ]
  },
  {
   "cell_type": "markdown",
   "metadata": {},
   "source": [
    "### Lists from Travel Matrix"
   ]
  },
  {
   "cell_type": "code",
   "execution_count": 4,
   "metadata": {
    "collapsed": true
   },
   "outputs": [],
   "source": [
    "id = df.id\n",
    "start_id = df.from_loc_id\n",
    "start_lon = df.from_lon\n",
    "start_lat = df.from_lat\n",
    "pickup_id = df.pickup_loc_id\n",
    "pickup_lon = df.pickup_lon\n",
    "pickup_lat = df.pickup_lat\n",
    "delivery_id = df.drop_loc_id\n",
    "delivery_lon = df.offset_drop_lon\n",
    "delivery_lat = df.offset_drop_lat\n",
    "distance_start_pickup = df.distance_start_pickup\n",
    "distance_pickup_delivery = df.distance_pickup_drop\n",
    "time_start_pickup = df.duration_start_pickup\n",
    "time_pickup_delivery = df.duration_pickup_drop\n",
    "MoT = df.MoT"
   ]
  },
  {
   "cell_type": "markdown",
   "metadata": {},
   "source": [
    "### Jobs information"
   ]
  },
  {
   "cell_type": "code",
   "execution_count": 6,
   "metadata": {
    "collapsed": true
   },
   "outputs": [],
   "source": [
    "#all information about the job\n",
    "R = range(len(id))\n",
    "a = []\n",
    "routes = {}\n",
    "\n",
    "for i in R:\n",
    "    #all info about routes i\n",
    "    a.append((start_id[i], start_lon[i], start_lat[i], pickup_id[i], pickup_lon[i], pickup_lat[i], delivery_id[i], delivery_lon[i], delivery_lat[i], MoT[i], time_start_pickup[i], time_pickup_delivery[i]))\n",
    "    routes[id[i]] = a[i]"
   ]
  },
  {
   "cell_type": "markdown",
   "metadata": {},
   "source": [
    "Insert job_id and get all the information about the job"
   ]
  },
  {
   "cell_type": "code",
   "execution_count": 62,
   "metadata": {
    "collapsed": true
   },
   "outputs": [],
   "source": [
    "route = {}\n",
    "for i in R:\n",
    "    route[i] = [routes[id[i]]]"
   ]
  },
  {
   "cell_type": "code",
   "execution_count": 63,
   "metadata": {},
   "outputs": [
    {
     "data": {
      "text/plain": [
       "[(4584882,\n",
       "  -0.146036267,\n",
       "  51.522727289999999,\n",
       "  2173892,\n",
       "  -0.1824894,\n",
       "  51.4944153,\n",
       "  3687551,\n",
       "  -0.177908444,\n",
       "  51.490475140000001,\n",
       "  'scooter',\n",
       "  509.30000000000001,\n",
       "  60.5)]"
      ]
     },
     "execution_count": 63,
     "metadata": {},
     "output_type": "execute_result"
    }
   ],
   "source": [
    "route[0]"
   ]
  },
  {
   "cell_type": "code",
   "execution_count": 9,
   "metadata": {
    "collapsed": true
   },
   "outputs": [],
   "source": [
    "#distances\n",
    "d1 = []\n",
    "d2 = []\n",
    "dist_start_pickup = {}\n",
    "dist_pickup_delivery = {}\n",
    "total_distance = {}\n",
    "\n",
    "for i in R:\n",
    "    #distance from start to pickup\n",
    "    d1.append((distance_start_pickup[i]))\n",
    "    dist_start_pickup[id[i]] = d1[i]\n",
    "    \n",
    "    #distance from pickup to delivery\n",
    "    d2.append((distance_pickup_delivery[i]))\n",
    "    dist_pickup_delivery[id[i]] = d2[i]\n",
    "    \n",
    "    #total distance\n",
    "    total_distance[id[i]] = d1[i] + d2[i]"
   ]
  },
  {
   "cell_type": "markdown",
   "metadata": {},
   "source": [
    "Insert job_id to get distance"
   ]
  },
  {
   "cell_type": "code",
   "execution_count": 10,
   "metadata": {},
   "outputs": [
    {
     "data": {
      "text/plain": [
       "5342.6000000000004"
      ]
     },
     "execution_count": 10,
     "metadata": {},
     "output_type": "execute_result"
    }
   ],
   "source": [
    "dist_start_pickup[id[0]]"
   ]
  },
  {
   "cell_type": "code",
   "execution_count": 11,
   "metadata": {},
   "outputs": [
    {
     "data": {
      "text/plain": [
       "614.79999999999995"
      ]
     },
     "execution_count": 11,
     "metadata": {},
     "output_type": "execute_result"
    }
   ],
   "source": [
    "dist_pickup_delivery[id[0]]"
   ]
  },
  {
   "cell_type": "code",
   "execution_count": 12,
   "metadata": {},
   "outputs": [
    {
     "data": {
      "text/plain": [
       "5957.4000000000005"
      ]
     },
     "execution_count": 12,
     "metadata": {},
     "output_type": "execute_result"
    }
   ],
   "source": [
    "total_distance[id[0]]"
   ]
  },
  {
   "cell_type": "code",
   "execution_count": 13,
   "metadata": {
    "collapsed": true
   },
   "outputs": [],
   "source": [
    "#time\n",
    "t1 = []\n",
    "t2 = []\n",
    "t1_start_pickup = {}\n",
    "t2_pickup_delivery = {}\n",
    "total_time = {}\n",
    "\n",
    "for i in R:\n",
    "    #time from start to pickup\n",
    "    t1.append((time_start_pickup[i]))\n",
    "    t1_start_pickup[id[i]] = t1[i]\n",
    "    \n",
    "    #time from pickup to delivery\n",
    "    t2.append((time_pickup_delivery[i]))\n",
    "    t2_pickup_delivery[id[i]] = t2[i]\n",
    "    \n",
    "    #total time\n",
    "    total_time[id[i]] = t1[i] + t2[i]"
   ]
  },
  {
   "cell_type": "markdown",
   "metadata": {},
   "source": [
    "Insert id and get time to complete the job"
   ]
  },
  {
   "cell_type": "code",
   "execution_count": 14,
   "metadata": {},
   "outputs": [
    {
     "data": {
      "text/plain": [
       "509.30000000000001"
      ]
     },
     "execution_count": 14,
     "metadata": {},
     "output_type": "execute_result"
    }
   ],
   "source": [
    "t1_start_pickup[id[0]]"
   ]
  },
  {
   "cell_type": "code",
   "execution_count": 15,
   "metadata": {},
   "outputs": [
    {
     "data": {
      "text/plain": [
       "60.5"
      ]
     },
     "execution_count": 15,
     "metadata": {},
     "output_type": "execute_result"
    }
   ],
   "source": [
    "t2_pickup_delivery[id[0]]"
   ]
  },
  {
   "cell_type": "code",
   "execution_count": 16,
   "metadata": {},
   "outputs": [
    {
     "data": {
      "text/plain": [
       "569.79999999999995"
      ]
     },
     "execution_count": 16,
     "metadata": {},
     "output_type": "execute_result"
    }
   ],
   "source": [
    "total_time[id[0]]"
   ]
  },
  {
   "cell_type": "markdown",
   "metadata": {},
   "source": [
    "# Shifts data\n",
    "##### Additional information\n",
    "1. There are 242 drivers for 347 shifts: Some drivers are taking breaks and make themselves available with the same shift_id\n",
    "2. 38 distinct starting points\n",
    "3. shifts_starting_loc_id's all have 000 at the end\n",
    "4. Default shift time: 4 hours (but can be prolonged to finish a job) but data is inconsistent"
   ]
  },
  {
   "cell_type": "code",
   "execution_count": 17,
   "metadata": {},
   "outputs": [
    {
     "data": {
      "text/html": [
       "<div>\n",
       "<table border=\"1\" class=\"dataframe\">\n",
       "  <thead>\n",
       "    <tr style=\"text-align: right;\">\n",
       "      <th></th>\n",
       "      <th>disg_shift_id</th>\n",
       "      <th>disg_courier_id</th>\n",
       "      <th>transport</th>\n",
       "      <th>shift_start_time</th>\n",
       "      <th>shift_end_time</th>\n",
       "      <th>starting_loc_id</th>\n",
       "      <th>starting_lon</th>\n",
       "      <th>starting_lat</th>\n",
       "    </tr>\n",
       "  </thead>\n",
       "  <tbody>\n",
       "    <tr>\n",
       "      <th>0</th>\n",
       "      <td>1</td>\n",
       "      <td>139</td>\n",
       "      <td>Scooter</td>\n",
       "      <td>10/06/2019 12:00</td>\n",
       "      <td>10/06/2019 22:00</td>\n",
       "      <td>1.178801e+09</td>\n",
       "      <td>-0.076223</td>\n",
       "      <td>51.524128</td>\n",
       "    </tr>\n",
       "    <tr>\n",
       "      <th>1</th>\n",
       "      <td>2</td>\n",
       "      <td>150</td>\n",
       "      <td>Scooter</td>\n",
       "      <td>10/06/2019 12:00</td>\n",
       "      <td>10/06/2019 22:00</td>\n",
       "      <td>1.178771e+09</td>\n",
       "      <td>-0.123455</td>\n",
       "      <td>51.515900</td>\n",
       "    </tr>\n",
       "    <tr>\n",
       "      <th>2</th>\n",
       "      <td>3</td>\n",
       "      <td>151</td>\n",
       "      <td>Scooter</td>\n",
       "      <td>10/06/2019 12:05</td>\n",
       "      <td>10/06/2019 22:05</td>\n",
       "      <td>1.178801e+09</td>\n",
       "      <td>-0.076223</td>\n",
       "      <td>51.524128</td>\n",
       "    </tr>\n",
       "    <tr>\n",
       "      <th>3</th>\n",
       "      <td>4</td>\n",
       "      <td>163</td>\n",
       "      <td>Scooter</td>\n",
       "      <td>10/06/2019 15:00</td>\n",
       "      <td>10/06/2019 18:06</td>\n",
       "      <td>1.178776e+09</td>\n",
       "      <td>-0.163983</td>\n",
       "      <td>51.475052</td>\n",
       "    </tr>\n",
       "    <tr>\n",
       "      <th>4</th>\n",
       "      <td>5</td>\n",
       "      <td>175</td>\n",
       "      <td>Scooter</td>\n",
       "      <td>10/06/2019 12:00</td>\n",
       "      <td>10/06/2019 22:15</td>\n",
       "      <td>1.178776e+09</td>\n",
       "      <td>-0.163983</td>\n",
       "      <td>51.475052</td>\n",
       "    </tr>\n",
       "  </tbody>\n",
       "</table>\n",
       "</div>"
      ],
      "text/plain": [
       "   disg_shift_id  disg_courier_id transport  shift_start_time  \\\n",
       "0              1              139   Scooter  10/06/2019 12:00   \n",
       "1              2              150   Scooter  10/06/2019 12:00   \n",
       "2              3              151   Scooter  10/06/2019 12:05   \n",
       "3              4              163   Scooter  10/06/2019 15:00   \n",
       "4              5              175   Scooter  10/06/2019 12:00   \n",
       "\n",
       "     shift_end_time  starting_loc_id  starting_lon  starting_lat  \n",
       "0  10/06/2019 22:00     1.178801e+09     -0.076223     51.524128  \n",
       "1  10/06/2019 22:00     1.178771e+09     -0.123455     51.515900  \n",
       "2  10/06/2019 22:05     1.178801e+09     -0.076223     51.524128  \n",
       "3  10/06/2019 18:06     1.178776e+09     -0.163983     51.475052  \n",
       "4  10/06/2019 22:15     1.178776e+09     -0.163983     51.475052  "
      ]
     },
     "execution_count": 17,
     "metadata": {},
     "output_type": "execute_result"
    }
   ],
   "source": [
    "path1 = 'Shiftsdataforselectedday_2.0.csv'\n",
    "df1 = pd.read_csv(path1)\n",
    "\n",
    "df1.head()"
   ]
  },
  {
   "cell_type": "markdown",
   "metadata": {},
   "source": [
    "### Lists from shifts "
   ]
  },
  {
   "cell_type": "code",
   "execution_count": 18,
   "metadata": {
    "collapsed": true
   },
   "outputs": [],
   "source": [
    "shift_id = df1.disg_shift_id\n",
    "driver_id = df1.disg_courier_id\n",
    "transport = df1.transport\n",
    "shift_start = df1.shift_start_time\n",
    "shift_end = df1.shift_end_time\n",
    "driver_start_id = df1.starting_loc_id\n",
    "driver_start_lon = df1.starting_lon\n",
    "driver_start_lat = df1.starting_lat"
   ]
  },
  {
   "cell_type": "markdown",
   "metadata": {},
   "source": [
    "### Driver information"
   ]
  },
  {
   "cell_type": "code",
   "execution_count": 66,
   "metadata": {
    "collapsed": true
   },
   "outputs": [],
   "source": [
    "D = range(len(set(driver_id)))\n",
    "b = []\n",
    "driver_info = {}\n",
    "\n",
    "for i in D:\n",
    "    b.append((shift_id[i], transport[i], shift_start[i], shift_end[i], driver_start_id[i], driver_start_lon[i], driver_start_lat[i]))\n",
    "    driver_info[driver_id[i]] = b[i]"
   ]
  },
  {
   "cell_type": "code",
   "execution_count": 67,
   "metadata": {},
   "outputs": [],
   "source": [
    "driver = {}\n",
    "for i in D:\n",
    "    driver[i] = [driver_info[driver_id[i]]]"
   ]
  },
  {
   "cell_type": "markdown",
   "metadata": {},
   "source": [
    "Insert driver_id and get information about the driver"
   ]
  },
  {
   "cell_type": "code",
   "execution_count": 68,
   "metadata": {
    "scrolled": true
   },
   "outputs": [
    {
     "data": {
      "text/plain": [
       "[(2,\n",
       "  'Scooter',\n",
       "  '10/06/2019 12:00',\n",
       "  '10/06/2019 22:00',\n",
       "  1178771000.0,\n",
       "  -0.123455,\n",
       "  51.515900000000002)]"
      ]
     },
     "execution_count": 68,
     "metadata": {},
     "output_type": "execute_result"
    }
   ],
   "source": [
    "driver[1]"
   ]
  },
  {
   "cell_type": "code",
   "execution_count": 76,
   "metadata": {
    "scrolled": true
   },
   "outputs": [
    {
     "name": "stdout",
     "output_type": "stream",
     "text": [
      "10/06/2019 12:00\n"
     ]
    }
   ],
   "source": [
    "for i in range(len(shift_id)):\n",
    "    print(b[0][2])\n",
    "    break"
   ]
  },
  {
   "cell_type": "code",
   "execution_count": 81,
   "metadata": {},
   "outputs": [],
   "source": [
    "mot = []\n",
    "driver_MoT = {}\n",
    "\n",
    "for i in D:\n",
    "    mot.append((transport[i]))\n",
    "    driver_MoT[driver_id[i]] = mot[i]"
   ]
  },
  {
   "cell_type": "markdown",
   "metadata": {},
   "source": [
    "Insert driver_id and get MoT"
   ]
  },
  {
   "cell_type": "code",
   "execution_count": 82,
   "metadata": {},
   "outputs": [
    {
     "data": {
      "text/plain": [
       "'Scooter'"
      ]
     },
     "execution_count": 82,
     "metadata": {},
     "output_type": "execute_result"
    }
   ],
   "source": [
    "mot[0]"
   ]
  },
  {
   "cell_type": "markdown",
   "metadata": {},
   "source": [
    "# Orders dataset (real data)"
   ]
  },
  {
   "cell_type": "code",
   "execution_count": 29,
   "metadata": {
    "scrolled": true
   },
   "outputs": [
    {
     "data": {
      "text/html": [
       "<div>\n",
       "<table border=\"1\" class=\"dataframe\">\n",
       "  <thead>\n",
       "    <tr style=\"text-align: right;\">\n",
       "      <th></th>\n",
       "      <th>encr_job_id</th>\n",
       "      <th>job_state</th>\n",
       "      <th>job_kind</th>\n",
       "      <th>b2b_delivery_restrictions</th>\n",
       "      <th>started_at</th>\n",
       "      <th>assigned_at</th>\n",
       "      <th>items_ready_at</th>\n",
       "      <th>pickup_arrived_at</th>\n",
       "      <th>drop_started_at</th>\n",
       "      <th>drop_arrived_at</th>\n",
       "      <th>...</th>\n",
       "      <th>cancelled_at</th>\n",
       "      <th>disg_courier_id</th>\n",
       "      <th>transport_mode</th>\n",
       "      <th>encr_pickup_id</th>\n",
       "      <th>pickup_loc_id</th>\n",
       "      <th>pickup_lat</th>\n",
       "      <th>pickup_lon</th>\n",
       "      <th>drop_loc_id</th>\n",
       "      <th>offset_drop_lat</th>\n",
       "      <th>offset_drop_lon</th>\n",
       "    </tr>\n",
       "  </thead>\n",
       "  <tbody>\n",
       "    <tr>\n",
       "      <th>0</th>\n",
       "      <td>41e715a1a8401966d459e92e502018e1</td>\n",
       "      <td>complete</td>\n",
       "      <td>B2B scheduled</td>\n",
       "      <td>NaN</td>\n",
       "      <td>2019-06-10 08:00:00</td>\n",
       "      <td>2019-06-10 06:50:03.174984</td>\n",
       "      <td>NaN</td>\n",
       "      <td>2019-06-10 07:53:36.791219</td>\n",
       "      <td>2019-06-10 08:46:51.78763</td>\n",
       "      <td>2019-06-10 08:52:20.677112</td>\n",
       "      <td>...</td>\n",
       "      <td>NaN</td>\n",
       "      <td>112</td>\n",
       "      <td>Car</td>\n",
       "      <td>eb19fae70183e190ed302cfc384346ae</td>\n",
       "      <td>4582299</td>\n",
       "      <td>51.485816</td>\n",
       "      <td>-0.180878</td>\n",
       "      <td>4570506</td>\n",
       "      <td>51.493379</td>\n",
       "      <td>-0.175047</td>\n",
       "    </tr>\n",
       "    <tr>\n",
       "      <th>1</th>\n",
       "      <td>047b08657758ac8c0131158145e3ebaf</td>\n",
       "      <td>complete</td>\n",
       "      <td>B2C on demand</td>\n",
       "      <td>NaN</td>\n",
       "      <td>2019-06-10 08:05:24.543076</td>\n",
       "      <td>2019-06-10 08:06:03.07823</td>\n",
       "      <td>NaN</td>\n",
       "      <td>2019-06-10 08:15:18.534345</td>\n",
       "      <td>2019-06-10 08:27:24.719003</td>\n",
       "      <td>2019-06-10 08:34:07.464798</td>\n",
       "      <td>...</td>\n",
       "      <td>NaN</td>\n",
       "      <td>14</td>\n",
       "      <td>Scooter</td>\n",
       "      <td>6a7afe87251855e7b2939e87d6934034</td>\n",
       "      <td>4100353</td>\n",
       "      <td>51.515897</td>\n",
       "      <td>-0.204797</td>\n",
       "      <td>4584831</td>\n",
       "      <td>51.522585</td>\n",
       "      <td>-0.165872</td>\n",
       "    </tr>\n",
       "    <tr>\n",
       "      <th>2</th>\n",
       "      <td>6e398ce770b25f4383af626bd0d66d02</td>\n",
       "      <td>complete</td>\n",
       "      <td>B2C on demand</td>\n",
       "      <td>NaN</td>\n",
       "      <td>2019-06-10 08:06:52.259856</td>\n",
       "      <td>2019-06-10 08:11:40.006109</td>\n",
       "      <td>NaN</td>\n",
       "      <td>2019-06-10 08:27:54.950745</td>\n",
       "      <td>2019-06-10 08:38:20.176782</td>\n",
       "      <td>2019-06-10 08:39:18.3304</td>\n",
       "      <td>...</td>\n",
       "      <td>NaN</td>\n",
       "      <td>148</td>\n",
       "      <td>Scooter</td>\n",
       "      <td>d5651d9abc4a757b40ac3dcf70a837e0</td>\n",
       "      <td>407304</td>\n",
       "      <td>51.535844</td>\n",
       "      <td>-0.205274</td>\n",
       "      <td>3417133</td>\n",
       "      <td>51.534937</td>\n",
       "      <td>-0.211342</td>\n",
       "    </tr>\n",
       "    <tr>\n",
       "      <th>3</th>\n",
       "      <td>dd2e3b82ea1b32cee629b13620e92fdc</td>\n",
       "      <td>complete</td>\n",
       "      <td>B2C on demand</td>\n",
       "      <td>NaN</td>\n",
       "      <td>2019-06-10 08:17:51.181189</td>\n",
       "      <td>2019-06-10 08:19:03.450223</td>\n",
       "      <td>NaN</td>\n",
       "      <td>2019-06-10 08:19:27.978836</td>\n",
       "      <td>2019-06-10 08:33:56.746714</td>\n",
       "      <td>2019-06-10 08:35:42.456851</td>\n",
       "      <td>...</td>\n",
       "      <td>NaN</td>\n",
       "      <td>40</td>\n",
       "      <td>Bicycle</td>\n",
       "      <td>939f71635ccbb759c05ffd8dea59fee6</td>\n",
       "      <td>411098</td>\n",
       "      <td>51.489849</td>\n",
       "      <td>-0.162822</td>\n",
       "      <td>3963268</td>\n",
       "      <td>51.491147</td>\n",
       "      <td>-0.170908</td>\n",
       "    </tr>\n",
       "    <tr>\n",
       "      <th>4</th>\n",
       "      <td>4c672bfed253e6199321f50ff7b87090</td>\n",
       "      <td>complete</td>\n",
       "      <td>B2C on demand</td>\n",
       "      <td>NaN</td>\n",
       "      <td>2019-06-10 08:20:21.672239</td>\n",
       "      <td>2019-06-10 08:22:03.559907</td>\n",
       "      <td>NaN</td>\n",
       "      <td>2019-06-10 08:35:25.820282</td>\n",
       "      <td>2019-06-10 08:50:08.608135</td>\n",
       "      <td>2019-06-10 08:55:09.564466</td>\n",
       "      <td>...</td>\n",
       "      <td>NaN</td>\n",
       "      <td>13</td>\n",
       "      <td>Scooter</td>\n",
       "      <td>0ceb8f47864a220f07157cff0ed18b9a</td>\n",
       "      <td>658821</td>\n",
       "      <td>51.521655</td>\n",
       "      <td>-0.134368</td>\n",
       "      <td>4088718</td>\n",
       "      <td>51.531753</td>\n",
       "      <td>-0.119836</td>\n",
       "    </tr>\n",
       "  </tbody>\n",
       "</table>\n",
       "<p>5 rows × 21 columns</p>\n",
       "</div>"
      ],
      "text/plain": [
       "                        encr_job_id job_state       job_kind  \\\n",
       "0  41e715a1a8401966d459e92e502018e1  complete  B2B scheduled   \n",
       "1  047b08657758ac8c0131158145e3ebaf  complete  B2C on demand   \n",
       "2  6e398ce770b25f4383af626bd0d66d02  complete  B2C on demand   \n",
       "3  dd2e3b82ea1b32cee629b13620e92fdc  complete  B2C on demand   \n",
       "4  4c672bfed253e6199321f50ff7b87090  complete  B2C on demand   \n",
       "\n",
       "  b2b_delivery_restrictions                  started_at  \\\n",
       "0                       NaN         2019-06-10 08:00:00   \n",
       "1                       NaN  2019-06-10 08:05:24.543076   \n",
       "2                       NaN  2019-06-10 08:06:52.259856   \n",
       "3                       NaN  2019-06-10 08:17:51.181189   \n",
       "4                       NaN  2019-06-10 08:20:21.672239   \n",
       "\n",
       "                  assigned_at items_ready_at           pickup_arrived_at  \\\n",
       "0  2019-06-10 06:50:03.174984            NaN  2019-06-10 07:53:36.791219   \n",
       "1   2019-06-10 08:06:03.07823            NaN  2019-06-10 08:15:18.534345   \n",
       "2  2019-06-10 08:11:40.006109            NaN  2019-06-10 08:27:54.950745   \n",
       "3  2019-06-10 08:19:03.450223            NaN  2019-06-10 08:19:27.978836   \n",
       "4  2019-06-10 08:22:03.559907            NaN  2019-06-10 08:35:25.820282   \n",
       "\n",
       "              drop_started_at             drop_arrived_at       ...         \\\n",
       "0   2019-06-10 08:46:51.78763  2019-06-10 08:52:20.677112       ...          \n",
       "1  2019-06-10 08:27:24.719003  2019-06-10 08:34:07.464798       ...          \n",
       "2  2019-06-10 08:38:20.176782    2019-06-10 08:39:18.3304       ...          \n",
       "3  2019-06-10 08:33:56.746714  2019-06-10 08:35:42.456851       ...          \n",
       "4  2019-06-10 08:50:08.608135  2019-06-10 08:55:09.564466       ...          \n",
       "\n",
       "  cancelled_at disg_courier_id  transport_mode  \\\n",
       "0          NaN             112             Car   \n",
       "1          NaN              14         Scooter   \n",
       "2          NaN             148         Scooter   \n",
       "3          NaN              40         Bicycle   \n",
       "4          NaN              13         Scooter   \n",
       "\n",
       "                     encr_pickup_id pickup_loc_id  pickup_lat  pickup_lon  \\\n",
       "0  eb19fae70183e190ed302cfc384346ae       4582299   51.485816   -0.180878   \n",
       "1  6a7afe87251855e7b2939e87d6934034       4100353   51.515897   -0.204797   \n",
       "2  d5651d9abc4a757b40ac3dcf70a837e0        407304   51.535844   -0.205274   \n",
       "3  939f71635ccbb759c05ffd8dea59fee6        411098   51.489849   -0.162822   \n",
       "4  0ceb8f47864a220f07157cff0ed18b9a        658821   51.521655   -0.134368   \n",
       "\n",
       "   drop_loc_id  offset_drop_lat  offset_drop_lon  \n",
       "0      4570506        51.493379        -0.175047  \n",
       "1      4584831        51.522585        -0.165872  \n",
       "2      3417133        51.534937        -0.211342  \n",
       "3      3963268        51.491147        -0.170908  \n",
       "4      4088718        51.531753        -0.119836  \n",
       "\n",
       "[5 rows x 21 columns]"
      ]
     },
     "execution_count": 29,
     "metadata": {},
     "output_type": "execute_result"
    }
   ],
   "source": [
    "path2 = 'Jobsdataforselectedday_2.0.csv'\n",
    "df2 = pd.read_csv(path2)\n",
    "\n",
    "df2.head()"
   ]
  },
  {
   "cell_type": "markdown",
   "metadata": {},
   "source": [
    "### Lists from orders dataset\n",
    "The following lists are relevant for the model. This is data that can be used to assign orders to the model."
   ]
  },
  {
   "cell_type": "code",
   "execution_count": 30,
   "metadata": {
    "collapsed": true
   },
   "outputs": [],
   "source": [
    "job_id = df2.encr_job_id\n",
    "job_kind = df2.job_kind\n",
    "b2b_delivery_restrictions = df2.b2b_delivery_restrictions\n",
    "started_at = df2.started_at #started at is the time at which Quiqup's driver started its journey. It's not data that I need\n",
    "assigned_at = df2.assigned_at\n",
    "pickup_id_job = df2.pickup_loc_id"
   ]
  },
  {
   "cell_type": "code",
   "execution_count": 31,
   "metadata": {
    "collapsed": true
   },
   "outputs": [],
   "source": [
    "J = range(len(job_id))"
   ]
  },
  {
   "cell_type": "code",
   "execution_count": 32,
   "metadata": {},
   "outputs": [
    {
     "name": "stdout",
     "output_type": "stream",
     "text": [
      "2173488\n"
     ]
    }
   ],
   "source": [
    "for j in J:\n",
    "    print(pickup_id_job[34])\n",
    "    break"
   ]
  },
  {
   "cell_type": "markdown",
   "metadata": {},
   "source": [
    "### Orders information \n",
    "\n",
    "Here I am assuming that the starting time of an job equals the time at which the job has been assigned to the system"
   ]
  },
  {
   "cell_type": "code",
   "execution_count": 33,
   "metadata": {
    "collapsed": true
   },
   "outputs": [],
   "source": [
    "start_times = []\n",
    "start_time = {}\n",
    "\n",
    "for i in range(0, 1087):\n",
    "    start_times.append((assigned_at[i]))\n",
    "    start_time[job_id[i]] = start_times[i]"
   ]
  },
  {
   "cell_type": "markdown",
   "metadata": {},
   "source": [
    "Insert job_id and retrieve starting time of the job"
   ]
  },
  {
   "cell_type": "code",
   "execution_count": 34,
   "metadata": {},
   "outputs": [
    {
     "data": {
      "text/plain": [
       "'2019-06-10 06:50:03.174984'"
      ]
     },
     "execution_count": 34,
     "metadata": {},
     "output_type": "execute_result"
    }
   ],
   "source": [
    "start_time[job_id[0]]"
   ]
  },
  {
   "cell_type": "markdown",
   "metadata": {},
   "source": [
    "### Arrival time function\n",
    "\n",
    "There are two issues:\n",
    "1. Job starting time is a list that comes from the Orders dataset. Total time to complete a job is a list that comes from the Travel Matrix. How to you deal with this situation?\n",
    "2. We need to match the right 'i' with the right 'j' (i.e. route 'i' needs to correspond to the route of job 'j'). We need to find a way to link relevant i-j. \n",
    "    - Pickup ID is the same in both dataset. Is there something to do with it?\n",
    "    \n",
    "    \n",
    "Instead of using ranges --> call i in pickup_id and use i=j "
   ]
  },
  {
   "cell_type": "code",
   "execution_count": 35,
   "metadata": {
    "collapsed": true
   },
   "outputs": [],
   "source": [
    "arrival_time = {}\n",
    "\n",
    "for d in D:\n",
    "    for j in J:\n",
    "        if pickup_id[i] == pickup_id_job[j]:\n",
    "            arrival_time[i,j] = m.addConstr(started_at[j] + total_time[i], name = 'Arrival_time')\n",
    "            print('Arrival_time')\n",
    "        else:\n",
    "            break"
   ]
  },
  {
   "cell_type": "code",
   "execution_count": 36,
   "metadata": {
    "scrolled": true
   },
   "outputs": [
    {
     "ename": "KeyError",
     "evalue": "(1086, 0)",
     "output_type": "error",
     "traceback": [
      "\u001b[0;31m---------------------------------------------------------------------------\u001b[0m",
      "\u001b[0;31mKeyError\u001b[0m                                  Traceback (most recent call last)",
      "\u001b[0;32m<ipython-input-36-8d08df224157>\u001b[0m in \u001b[0;36m<module>\u001b[0;34m()\u001b[0m\n\u001b[1;32m      1\u001b[0m \u001b[0;32mfor\u001b[0m \u001b[0md\u001b[0m \u001b[0;32min\u001b[0m \u001b[0mD\u001b[0m\u001b[0;34m:\u001b[0m\u001b[0;34m\u001b[0m\u001b[0m\n\u001b[1;32m      2\u001b[0m     \u001b[0;32mfor\u001b[0m \u001b[0mj\u001b[0m \u001b[0;32min\u001b[0m \u001b[0mJ\u001b[0m\u001b[0;34m:\u001b[0m\u001b[0;34m\u001b[0m\u001b[0m\n\u001b[0;32m----> 3\u001b[0;31m         \u001b[0mprint\u001b[0m\u001b[0;34m(\u001b[0m\u001b[0marrival_time\u001b[0m\u001b[0;34m[\u001b[0m\u001b[0mi\u001b[0m\u001b[0;34m,\u001b[0m\u001b[0mj\u001b[0m\u001b[0;34m]\u001b[0m\u001b[0;34m)\u001b[0m\u001b[0;34m\u001b[0m\u001b[0m\n\u001b[0m",
      "\u001b[0;31mKeyError\u001b[0m: (1086, 0)"
     ]
    }
   ],
   "source": [
    "for d in D:\n",
    "    for j in J:\n",
    "        print(arrival_time[i,j])"
   ]
  },
  {
   "cell_type": "markdown",
   "metadata": {},
   "source": [
    "### Parameters"
   ]
  },
  {
   "cell_type": "code",
   "execution_count": 37,
   "metadata": {
    "collapsed": true
   },
   "outputs": [],
   "source": [
    "#constants\n",
    "pickup_and_delivery_timeout_bike = 20\n",
    "SLA_start_to_pickup = 15 #time only taken into account while driver is on the move\n",
    "SLA_pickup_to_delivery = 15 #it does not take into account waiting time at pickup of driver\n",
    "SLA_satisfy = 0.95 #90%-95% of SLAs must be satisfied --> 0.05 instead of 0.95?\n",
    "gm_raduis = 5000 #5000m radius search to allocate driver to job\n",
    "\n",
    "#lists\n",
    "driver_status = ['busy', 'avail']\n",
    "#job_kind = ['b2b_scheduled', 'b2b_demand', 'b2c_demand']\n",
    "#b2b_delivery_restrictions = ['SLA', 'None']\n",
    "job_state = ['complete', 'cancelled']"
   ]
  },
  {
   "cell_type": "markdown",
   "metadata": {
    "collapsed": true
   },
   "source": [
    "# Model formulation "
   ]
  },
  {
   "cell_type": "markdown",
   "metadata": {},
   "source": [
    "We have to create a function which aims to match a driver whenever a job is assigned to the model. This function needs to take into account drivers that are available and within the 5k GM, and also the drivers that are on a job, whose final destination is in the 5k GM. The function will have to compute the arrival time of the latter and calculate the time at which he would finish the next job. \n",
    "    * create a general function to match driver with job\n",
    "        - MoT, arrival time, starting location, delivery location\n",
    "        - then update the location of the driver that is matched to the job (i.e. the delivery location of this job \n",
    "        becomes the starting location of the driver’s next job)"
   ]
  },
  {
   "cell_type": "markdown",
   "metadata": {},
   "source": [
    "Notes on the cell below:\n",
    "1. Need to fix the KeyError\n",
    "2. Have to create a set of var[d] or to fix it as follows: driver[d] * x(binary) = 1 if driver is assigned to job\n",
    "3. Must create arrival time function to take into account the drivers on another job"
   ]
  },
  {
   "cell_type": "code",
   "execution_count": 52,
   "metadata": {},
   "outputs": [],
   "source": [
    "#drivers = {}\n",
    "for d in D:\n",
    "    vars[d] = m.addVar(vtype=GRB.BINARY, name='drivers')"
   ]
  },
  {
   "cell_type": "code",
   "execution_count": 56,
   "metadata": {},
   "outputs": [
    {
     "ename": "KeyError",
     "evalue": "0",
     "output_type": "error",
     "traceback": [
      "\u001b[0;31m---------------------------------------------------------------------------\u001b[0m",
      "\u001b[0;31mKeyError\u001b[0m                                  Traceback (most recent call last)",
      "\u001b[0;32m<ipython-input-56-c6e642535773>\u001b[0m in \u001b[0;36m<module>\u001b[0;34m()\u001b[0m\n\u001b[0;32m----> 1\u001b[0;31m \u001b[0mmax_driver\u001b[0m \u001b[0;34m=\u001b[0m \u001b[0mm\u001b[0m\u001b[0;34m.\u001b[0m\u001b[0maddConstr\u001b[0m\u001b[0;34m(\u001b[0m\u001b[0mquicksum\u001b[0m\u001b[0;34m(\u001b[0m\u001b[0mvars\u001b[0m\u001b[0;34m[\u001b[0m\u001b[0md\u001b[0m\u001b[0;34m]\u001b[0m \u001b[0;32mfor\u001b[0m \u001b[0md\u001b[0m \u001b[0;32min\u001b[0m \u001b[0mD\u001b[0m\u001b[0;34m)\u001b[0m \u001b[0;34m<=\u001b[0m \u001b[0;36m1\u001b[0m\u001b[0;34m)\u001b[0m\u001b[0;34m\u001b[0m\u001b[0m\n\u001b[0m",
      "\u001b[0;32mgurobi.pxi\u001b[0m in \u001b[0;36mgurobipy.quicksum (../../src/python/gurobipy.c:114616)\u001b[0;34m()\u001b[0m\n",
      "\u001b[0;32m<ipython-input-56-c6e642535773>\u001b[0m in \u001b[0;36m<genexpr>\u001b[0;34m(.0)\u001b[0m\n\u001b[0;32m----> 1\u001b[0;31m \u001b[0mmax_driver\u001b[0m \u001b[0;34m=\u001b[0m \u001b[0mm\u001b[0m\u001b[0;34m.\u001b[0m\u001b[0maddConstr\u001b[0m\u001b[0;34m(\u001b[0m\u001b[0mquicksum\u001b[0m\u001b[0;34m(\u001b[0m\u001b[0mvars\u001b[0m\u001b[0;34m[\u001b[0m\u001b[0md\u001b[0m\u001b[0;34m]\u001b[0m \u001b[0;32mfor\u001b[0m \u001b[0md\u001b[0m \u001b[0;32min\u001b[0m \u001b[0mD\u001b[0m\u001b[0;34m)\u001b[0m \u001b[0;34m<=\u001b[0m \u001b[0;36m1\u001b[0m\u001b[0;34m)\u001b[0m\u001b[0;34m\u001b[0m\u001b[0m\n\u001b[0m",
      "\u001b[0;31mKeyError\u001b[0m: 0"
     ]
    }
   ],
   "source": [
    "max_driver = m.addConstr(quicksum(vars[d] for d in D) <= 1)"
   ]
  },
  {
   "cell_type": "code",
   "execution_count": 85,
   "metadata": {
    "scrolled": true
   },
   "outputs": [
    {
     "ename": "KeyError",
     "evalue": "0",
     "output_type": "error",
     "traceback": [
      "\u001b[0;31m---------------------------------------------------------------------------\u001b[0m",
      "\u001b[0;31mKeyError\u001b[0m                                  Traceback (most recent call last)",
      "\u001b[0;32m<ipython-input-85-376192f9c12e>\u001b[0m in \u001b[0;36m<module>\u001b[0;34m()\u001b[0m\n\u001b[1;32m      6\u001b[0m             \u001b[0;32mfor\u001b[0m \u001b[0mk\u001b[0m \u001b[0;32min\u001b[0m \u001b[0mmot\u001b[0m\u001b[0;34m:\u001b[0m\u001b[0;34m\u001b[0m\u001b[0m\n\u001b[1;32m      7\u001b[0m                 \u001b[0;32mif\u001b[0m \u001b[0mpickup_id_job\u001b[0m\u001b[0;34m[\u001b[0m\u001b[0mj\u001b[0m\u001b[0;34m]\u001b[0m \u001b[0;34m==\u001b[0m \u001b[0mpickup_id\u001b[0m\u001b[0;34m[\u001b[0m\u001b[0mr\u001b[0m\u001b[0;34m]\u001b[0m\u001b[0;34m:\u001b[0m \u001b[0;31m# this should lead to many rows 'r' matching with 'j'\u001b[0m\u001b[0;34m\u001b[0m\u001b[0m\n\u001b[0;32m----> 8\u001b[0;31m                     \u001b[0;32mif\u001b[0m \u001b[0mdist_start_pickup\u001b[0m\u001b[0;34m[\u001b[0m\u001b[0mr\u001b[0m\u001b[0;34m]\u001b[0m \u001b[0;34m>\u001b[0m \u001b[0mgm_radius\u001b[0m\u001b[0;34m:\u001b[0m \u001b[0;31m#does this take all 'r' into account?\u001b[0m\u001b[0;34m\u001b[0m\u001b[0m\n\u001b[0m\u001b[1;32m      9\u001b[0m                         \u001b[0mvars\u001b[0m\u001b[0;34m[\u001b[0m\u001b[0md\u001b[0m\u001b[0;34m]\u001b[0m \u001b[0;34m=\u001b[0m \u001b[0;36m0\u001b[0m \u001b[0;31m#should I call them vars or drivers?\u001b[0m\u001b[0;34m\u001b[0m\u001b[0m\n\u001b[1;32m     10\u001b[0m                     \u001b[0;32melif\u001b[0m \u001b[0mdist_start_pickup\u001b[0m \u001b[0;34m<=\u001b[0m \u001b[0mgm_radius\u001b[0m\u001b[0;34m:\u001b[0m\u001b[0;34m\u001b[0m\u001b[0m\n",
      "\u001b[0;31mKeyError\u001b[0m: 0"
     ]
    }
   ],
   "source": [
    "#if distance from start to pickup is larger than 5k --> driver 'd' can't be assigned to job\n",
    "#not taking into account the position of the driver?\n",
    "for r in R:\n",
    "    for d in D:\n",
    "        for j in J:\n",
    "            for k in mot:\n",
    "                if pickup_id_job[j] == pickup_id[r]: # this should lead to many rows 'r' matching with 'j'\n",
    "                    if dist_start_pickup[r] > gm_radius: #does this take all 'r' into account?\n",
    "                        vars[d] = 0 #should I call them vars or drivers?\n",
    "                    elif dist_start_pickup <= gm_radius:\n",
    "                        if k == 'bike':\n",
    "                            if (time_start_pickup[r], time_pickup_delivery[r]) > pickup_and_delivery_timeout_bike:\n",
    "                                vars[d] = 0\n",
    "                            elif (time_start_pickup[r], time_pickup_delivery[r]) <= pickup_and_delivery_timeout_bike:\n",
    "                                vars[d] <= 1\n",
    "                        elif k != 'bike':\n",
    "                            vars[d] <= 1\n",
    "                        \n",
    "                elif pickup_id_job[j] != pickup_id[r]:\n",
    "                    break\n",
    "\n",
    "return total_time[r]\n",
    "#print('total time is ' + total_time)                    "
   ]
  },
  {
   "cell_type": "code",
   "execution_count": 39,
   "metadata": {
    "collapsed": true
   },
   "outputs": [],
   "source": [
    "#create decision variable t = time\n",
    "# we dont take MOT into account here? \n",
    "t = {}\n",
    "for d in D:\n",
    "    for j in J:\n",
    "        t[d,j] = total_time[id[j]]"
   ]
  },
  {
   "cell_type": "code",
   "execution_count": 40,
   "metadata": {},
   "outputs": [
    {
     "name": "stdout",
     "output_type": "stream",
     "text": [
      "1818.8\n"
     ]
    }
   ],
   "source": [
    "print(t[234,34])"
   ]
  },
  {
   "cell_type": "code",
   "execution_count": 41,
   "metadata": {},
   "outputs": [
    {
     "name": "stdout",
     "output_type": "stream",
     "text": [
      "d9d86a8af86876ec249bdf2b80dbc567\n"
     ]
    }
   ],
   "source": [
    "print(job_id[34])"
   ]
  },
  {
   "cell_type": "code",
   "execution_count": 42,
   "metadata": {},
   "outputs": [
    {
     "data": {
      "text/plain": [
       "[(236,\n",
       "  'Bicycle',\n",
       "  '10/06/2019 17:00',\n",
       "  '10/06/2019 22:10',\n",
       "  1183436000.0,\n",
       "  -0.070878999999999998,\n",
       "  51.473205999999998)]"
      ]
     },
     "execution_count": 42,
     "metadata": {},
     "output_type": "execute_result"
    }
   ],
   "source": [
    "driver[234]"
   ]
  },
  {
   "cell_type": "code",
   "execution_count": 43,
   "metadata": {},
   "outputs": [
    {
     "name": "stdout",
     "output_type": "stream",
     "text": [
      "2173488\n"
     ]
    }
   ],
   "source": [
    "for j in J:\n",
    "    print(pickup_id_job[34])\n",
    "    break"
   ]
  },
  {
   "cell_type": "code",
   "execution_count": 44,
   "metadata": {
    "scrolled": true
   },
   "outputs": [
    {
     "ename": "TypeError",
     "evalue": "'dict' object is not callable",
     "output_type": "error",
     "traceback": [
      "\u001b[0;31m---------------------------------------------------------------------------\u001b[0m",
      "\u001b[0;31mTypeError\u001b[0m                                 Traceback (most recent call last)",
      "\u001b[0;32m<ipython-input-44-9b95baee371e>\u001b[0m in \u001b[0;36m<module>\u001b[0;34m()\u001b[0m\n\u001b[1;32m      4\u001b[0m \u001b[0;32mfor\u001b[0m \u001b[0md\u001b[0m \u001b[0;32min\u001b[0m \u001b[0mD\u001b[0m\u001b[0;34m:\u001b[0m\u001b[0;34m\u001b[0m\u001b[0m\n\u001b[1;32m      5\u001b[0m     \u001b[0;32mfor\u001b[0m \u001b[0mj\u001b[0m \u001b[0;32min\u001b[0m \u001b[0mJ\u001b[0m\u001b[0;34m:\u001b[0m\u001b[0;34m\u001b[0m\u001b[0m\n\u001b[0;32m----> 6\u001b[0;31m         \u001b[0mvars\u001b[0m\u001b[0;34m[\u001b[0m\u001b[0md\u001b[0m\u001b[0;34m,\u001b[0m\u001b[0mj\u001b[0m\u001b[0;34m]\u001b[0m \u001b[0;34m=\u001b[0m \u001b[0mm\u001b[0m\u001b[0;34m.\u001b[0m\u001b[0maddVar\u001b[0m\u001b[0;34m(\u001b[0m\u001b[0mobj\u001b[0m\u001b[0;34m=\u001b[0m\u001b[0mtotal_time\u001b[0m\u001b[0;34m(\u001b[0m\u001b[0mi\u001b[0m\u001b[0;34m,\u001b[0m\u001b[0mj\u001b[0m\u001b[0;34m)\u001b[0m\u001b[0;34m,\u001b[0m \u001b[0mvtype\u001b[0m\u001b[0;34m=\u001b[0m\u001b[0mGRB\u001b[0m\u001b[0;34m.\u001b[0m\u001b[0mBINARY\u001b[0m\u001b[0;34m,\u001b[0m \u001b[0mname\u001b[0m \u001b[0;34m=\u001b[0m \u001b[0;34m'x'\u001b[0m\u001b[0;34m)\u001b[0m\u001b[0;34m\u001b[0m\u001b[0m\n\u001b[0m",
      "\u001b[0;31mTypeError\u001b[0m: 'dict' object is not callable"
     ]
    }
   ],
   "source": [
    "#Decision Variable x[d,j] = 1 if driver d is assigned to job j\n",
    "\n",
    "vars = {}\n",
    "for d in D:\n",
    "    for j in J:\n",
    "        vars[d,j] = m.addVar(obj=total_time(i,j), vtype=GRB.BINARY, name = 'x')"
   ]
  },
  {
   "cell_type": "code",
   "execution_count": null,
   "metadata": {
    "collapsed": true
   },
   "outputs": [],
   "source": []
  }
 ],
 "metadata": {
  "anaconda-cloud": {},
  "kernelspec": {
   "display_name": "Python [default]",
   "language": "python",
   "name": "python3"
  },
  "language_info": {
   "codemirror_mode": {
    "name": "ipython",
    "version": 3
   },
   "file_extension": ".py",
   "mimetype": "text/x-python",
   "name": "python",
   "nbconvert_exporter": "python",
   "pygments_lexer": "ipython3",
   "version": "3.5.2"
  }
 },
 "nbformat": 4,
 "nbformat_minor": 1
}
