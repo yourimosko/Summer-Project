{
 "cells": [
  {
   "cell_type": "code",
   "execution_count": 1,
   "metadata": {
    "collapsed": true
   },
   "outputs": [],
   "source": [
    "import numpy as np\n",
    "import pandas as pd\n",
    "import os\n",
    "import math\n",
    "import random\n",
    "from gurobi import *"
   ]
  },
  {
   "cell_type": "markdown",
   "metadata": {},
   "source": [
    "# Classes"
   ]
  },
  {
   "cell_type": "code",
   "execution_count": 81,
   "metadata": {},
   "outputs": [],
   "source": [
    "class Driver(object):\n",
    "    def __init__(self, courier_ID, shift_start, shift_end, MoT, start_lon, start_lat):\n",
    "        self.courier_ID = courier_ID\n",
    "        self.shift_start = shift_start\n",
    "        self.shift_end = shift_end\n",
    "        self.MoT = MoT\n",
    "        self.start_lon = start_lon\n",
    "        self.start_lat = start_lat\n",
    "        \n",
    "class Job(object):\n",
    "    def __init__(self, job_ID, job_kind, pickup_lon, pickup_lat, delivery_lon, delivery_lat):\n",
    "        self.job_ID = job_ID\n",
    "        self.job_kind = job_kind\n",
    "        self.pickup_lon = pickup_lon\n",
    "        self.pickup_lat = pickup_lat\n",
    "        self.delivery_lon = delivery_lon\n",
    "        self.delivery_lat = delivery_lat\n",
    "        \n",
    "    def travel_time(self, MoT):\n",
    "        return self.pickup.travel_time(self, delivery_lon, deliver_lat)\n",
    "        \n",
    "#need to review class position    \n",
    "class Position(object):\n",
    "    def __init__(self, lon, lat):\n",
    "        self.lon = lon\n",
    "        self.lat = lat\n",
    "        self.dist = {}\n",
    "        \n",
    "    def add(self, position, time):\n",
    "        self.dist[position] = time\n",
    "        \n",
    "    def travel_time(self, position_lon, position_lat):\n",
    "        return self.dist[position]"
   ]
  },
  {
   "cell_type": "markdown",
   "metadata": {},
   "source": [
    "# Travel Matrix"
   ]
  },
  {
   "cell_type": "code",
   "execution_count": 69,
   "metadata": {
    "collapsed": true
   },
   "outputs": [],
   "source": [
    "path = 'Travel_Matrix.csv'\n",
    "inputdata = pd.read_csv(path)"
   ]
  },
  {
   "cell_type": "code",
   "execution_count": 70,
   "metadata": {},
   "outputs": [
    {
     "data": {
      "text/html": [
       "<div>\n",
       "<table border=\"1\" class=\"dataframe\">\n",
       "  <thead>\n",
       "    <tr style=\"text-align: right;\">\n",
       "      <th></th>\n",
       "      <th>start_lon</th>\n",
       "      <th>start_lat</th>\n",
       "      <th>pickup_lon</th>\n",
       "      <th>pickup_lat</th>\n",
       "      <th>MoT</th>\n",
       "      <th>distance_meters</th>\n",
       "      <th>time_seconds</th>\n",
       "    </tr>\n",
       "  </thead>\n",
       "  <tbody>\n",
       "    <tr>\n",
       "      <th>0</th>\n",
       "      <td>-0.077893</td>\n",
       "      <td>51.50963</td>\n",
       "      <td>-0.182688</td>\n",
       "      <td>51.494267</td>\n",
       "      <td>scooter</td>\n",
       "      <td>8169.1</td>\n",
       "      <td>772.6</td>\n",
       "    </tr>\n",
       "    <tr>\n",
       "      <th>1</th>\n",
       "      <td>-0.077893</td>\n",
       "      <td>51.50963</td>\n",
       "      <td>-0.124112</td>\n",
       "      <td>51.378221</td>\n",
       "      <td>car</td>\n",
       "      <td>17908.4</td>\n",
       "      <td>1851.4</td>\n",
       "    </tr>\n",
       "    <tr>\n",
       "      <th>2</th>\n",
       "      <td>-0.077893</td>\n",
       "      <td>51.50963</td>\n",
       "      <td>-0.070889</td>\n",
       "      <td>51.473192</td>\n",
       "      <td>bicycle</td>\n",
       "      <td>5893.9</td>\n",
       "      <td>1541.0</td>\n",
       "    </tr>\n",
       "    <tr>\n",
       "      <th>3</th>\n",
       "      <td>-0.077893</td>\n",
       "      <td>51.50963</td>\n",
       "      <td>-0.171205</td>\n",
       "      <td>51.469288</td>\n",
       "      <td>scooter</td>\n",
       "      <td>9917.6</td>\n",
       "      <td>935.0</td>\n",
       "    </tr>\n",
       "    <tr>\n",
       "      <th>4</th>\n",
       "      <td>-0.077893</td>\n",
       "      <td>51.50963</td>\n",
       "      <td>-0.328978</td>\n",
       "      <td>51.447641</td>\n",
       "      <td>car</td>\n",
       "      <td>20977.3</td>\n",
       "      <td>1911.8</td>\n",
       "    </tr>\n",
       "  </tbody>\n",
       "</table>\n",
       "</div>"
      ],
      "text/plain": [
       "   start_lon  start_lat  pickup_lon  pickup_lat      MoT  distance_meters  \\\n",
       "0  -0.077893   51.50963   -0.182688   51.494267  scooter           8169.1   \n",
       "1  -0.077893   51.50963   -0.124112   51.378221      car          17908.4   \n",
       "2  -0.077893   51.50963   -0.070889   51.473192  bicycle           5893.9   \n",
       "3  -0.077893   51.50963   -0.171205   51.469288  scooter           9917.6   \n",
       "4  -0.077893   51.50963   -0.328978   51.447641      car          20977.3   \n",
       "\n",
       "   time_seconds  \n",
       "0         772.6  \n",
       "1        1851.4  \n",
       "2        1541.0  \n",
       "3         935.0  \n",
       "4        1911.8  "
      ]
     },
     "execution_count": 70,
     "metadata": {},
     "output_type": "execute_result"
    }
   ],
   "source": [
    "inputdata.head()"
   ]
  },
  {
   "cell_type": "markdown",
   "metadata": {},
   "source": [
    "### Lists"
   ]
  },
  {
   "cell_type": "code",
   "execution_count": 72,
   "metadata": {},
   "outputs": [],
   "source": [
    "start_lon = [inputdata['start_lon']]\n",
    "start_lat = [inputdata['start_lat']]\n",
    "pickup_lon = [inputdata['pickup_lon']]\n",
    "pickup_lat = [inputdata['pickup_lat']]\n",
    "MoT = [inputdata['MoT']]\n",
    "distance_meters = [inputdata['distance_meters']]\n",
    "time_seconds = [inputdata['time_seconds']]"
   ]
  },
  {
   "cell_type": "markdown",
   "metadata": {},
   "source": [
    "# Jobs data"
   ]
  },
  {
   "cell_type": "code",
   "execution_count": 76,
   "metadata": {},
   "outputs": [],
   "source": [
    "path = 'Jobsdataforselectedday (1).csv'\n",
    "inputdata = pd.read_csv(path)"
   ]
  },
  {
   "cell_type": "code",
   "execution_count": 77,
   "metadata": {
    "scrolled": true
   },
   "outputs": [
    {
     "data": {
      "text/html": [
       "<div>\n",
       "<table border=\"1\" class=\"dataframe\">\n",
       "  <thead>\n",
       "    <tr style=\"text-align: right;\">\n",
       "      <th></th>\n",
       "      <th>encr_job_id</th>\n",
       "      <th>job_state</th>\n",
       "      <th>job_kind</th>\n",
       "      <th>b2b_delivery_restrictions</th>\n",
       "      <th>started_at</th>\n",
       "      <th>assigned_at</th>\n",
       "      <th>items_ready_at</th>\n",
       "      <th>pickup_arrived_at</th>\n",
       "      <th>drop_started_at</th>\n",
       "      <th>drop_arrived_at</th>\n",
       "      <th>job_completed_at</th>\n",
       "      <th>cancelled_at</th>\n",
       "      <th>disg_courier_id</th>\n",
       "      <th>transport_mode</th>\n",
       "      <th>encr_pickup_id</th>\n",
       "      <th>pickup_lat</th>\n",
       "      <th>pickup_lon</th>\n",
       "      <th>offset_drop_lat</th>\n",
       "      <th>offset_drop_lon</th>\n",
       "    </tr>\n",
       "  </thead>\n",
       "  <tbody>\n",
       "    <tr>\n",
       "      <th>0</th>\n",
       "      <td>41e715a1a8401966d459e92e502018e1</td>\n",
       "      <td>complete</td>\n",
       "      <td>B2B scheduled</td>\n",
       "      <td>NaN</td>\n",
       "      <td>10/06/2019 07:00</td>\n",
       "      <td>50:03.0</td>\n",
       "      <td>NaN</td>\n",
       "      <td>53:37.0</td>\n",
       "      <td>46:52.0</td>\n",
       "      <td>52:21.0</td>\n",
       "      <td>57:24.0</td>\n",
       "      <td>NaN</td>\n",
       "      <td>112</td>\n",
       "      <td>Car</td>\n",
       "      <td>eb19fae70183e190ed302cfc384346ae</td>\n",
       "      <td>51.485816</td>\n",
       "      <td>-0.180878</td>\n",
       "      <td>51.494596</td>\n",
       "      <td>-0.175581</td>\n",
       "    </tr>\n",
       "    <tr>\n",
       "      <th>1</th>\n",
       "      <td>047b08657758ac8c0131158145e3ebaf</td>\n",
       "      <td>complete</td>\n",
       "      <td>B2C on demand</td>\n",
       "      <td>NaN</td>\n",
       "      <td>05:25.0</td>\n",
       "      <td>06:03.0</td>\n",
       "      <td>NaN</td>\n",
       "      <td>15:18.0</td>\n",
       "      <td>27:25.0</td>\n",
       "      <td>34:07.0</td>\n",
       "      <td>36:19.0</td>\n",
       "      <td>NaN</td>\n",
       "      <td>14</td>\n",
       "      <td>Scooter</td>\n",
       "      <td>6a7afe87251855e7b2939e87d6934034</td>\n",
       "      <td>51.515897</td>\n",
       "      <td>-0.204797</td>\n",
       "      <td>51.520986</td>\n",
       "      <td>-0.166067</td>\n",
       "    </tr>\n",
       "    <tr>\n",
       "      <th>2</th>\n",
       "      <td>6e398ce770b25f4383af626bd0d66d02</td>\n",
       "      <td>complete</td>\n",
       "      <td>B2C on demand</td>\n",
       "      <td>NaN</td>\n",
       "      <td>06:52.0</td>\n",
       "      <td>11:40.0</td>\n",
       "      <td>NaN</td>\n",
       "      <td>27:55.0</td>\n",
       "      <td>38:20.2</td>\n",
       "      <td>39:18.3</td>\n",
       "      <td>51:45.0</td>\n",
       "      <td>NaN</td>\n",
       "      <td>148</td>\n",
       "      <td>Scooter</td>\n",
       "      <td>d5651d9abc4a757b40ac3dcf70a837e0</td>\n",
       "      <td>51.535891</td>\n",
       "      <td>-0.205417</td>\n",
       "      <td>51.535138</td>\n",
       "      <td>-0.211440</td>\n",
       "    </tr>\n",
       "    <tr>\n",
       "      <th>3</th>\n",
       "      <td>dd2e3b82ea1b32cee629b13620e92fdc</td>\n",
       "      <td>complete</td>\n",
       "      <td>B2C on demand</td>\n",
       "      <td>NaN</td>\n",
       "      <td>17:51.0</td>\n",
       "      <td>19:03.0</td>\n",
       "      <td>NaN</td>\n",
       "      <td>19:28.0</td>\n",
       "      <td>33:56.7</td>\n",
       "      <td>35:42.5</td>\n",
       "      <td>39:54.0</td>\n",
       "      <td>NaN</td>\n",
       "      <td>40</td>\n",
       "      <td>Bicycle</td>\n",
       "      <td>939f71635ccbb759c05ffd8dea59fee6</td>\n",
       "      <td>51.489974</td>\n",
       "      <td>-0.162701</td>\n",
       "      <td>51.492780</td>\n",
       "      <td>-0.166601</td>\n",
       "    </tr>\n",
       "    <tr>\n",
       "      <th>4</th>\n",
       "      <td>4c672bfed253e6199321f50ff7b87090</td>\n",
       "      <td>complete</td>\n",
       "      <td>B2C on demand</td>\n",
       "      <td>NaN</td>\n",
       "      <td>20:22.0</td>\n",
       "      <td>22:04.0</td>\n",
       "      <td>NaN</td>\n",
       "      <td>35:25.8</td>\n",
       "      <td>50:08.6</td>\n",
       "      <td>55:09.6</td>\n",
       "      <td>57:54.0</td>\n",
       "      <td>NaN</td>\n",
       "      <td>13</td>\n",
       "      <td>Scooter</td>\n",
       "      <td>0ceb8f47864a220f07157cff0ed18b9a</td>\n",
       "      <td>51.521655</td>\n",
       "      <td>-0.134368</td>\n",
       "      <td>51.531419</td>\n",
       "      <td>-0.120289</td>\n",
       "    </tr>\n",
       "  </tbody>\n",
       "</table>\n",
       "</div>"
      ],
      "text/plain": [
       "                        encr_job_id job_state       job_kind  \\\n",
       "0  41e715a1a8401966d459e92e502018e1  complete  B2B scheduled   \n",
       "1  047b08657758ac8c0131158145e3ebaf  complete  B2C on demand   \n",
       "2  6e398ce770b25f4383af626bd0d66d02  complete  B2C on demand   \n",
       "3  dd2e3b82ea1b32cee629b13620e92fdc  complete  B2C on demand   \n",
       "4  4c672bfed253e6199321f50ff7b87090  complete  B2C on demand   \n",
       "\n",
       "  b2b_delivery_restrictions        started_at assigned_at items_ready_at  \\\n",
       "0                       NaN  10/06/2019 07:00     50:03.0            NaN   \n",
       "1                       NaN           05:25.0     06:03.0            NaN   \n",
       "2                       NaN           06:52.0     11:40.0            NaN   \n",
       "3                       NaN           17:51.0     19:03.0            NaN   \n",
       "4                       NaN           20:22.0     22:04.0            NaN   \n",
       "\n",
       "  pickup_arrived_at drop_started_at drop_arrived_at job_completed_at  \\\n",
       "0           53:37.0         46:52.0         52:21.0          57:24.0   \n",
       "1           15:18.0         27:25.0         34:07.0          36:19.0   \n",
       "2           27:55.0         38:20.2         39:18.3          51:45.0   \n",
       "3           19:28.0         33:56.7         35:42.5          39:54.0   \n",
       "4           35:25.8         50:08.6         55:09.6          57:54.0   \n",
       "\n",
       "  cancelled_at  disg_courier_id transport_mode  \\\n",
       "0          NaN              112            Car   \n",
       "1          NaN               14        Scooter   \n",
       "2          NaN              148        Scooter   \n",
       "3          NaN               40        Bicycle   \n",
       "4          NaN               13        Scooter   \n",
       "\n",
       "                     encr_pickup_id  pickup_lat  pickup_lon  offset_drop_lat  \\\n",
       "0  eb19fae70183e190ed302cfc384346ae   51.485816   -0.180878        51.494596   \n",
       "1  6a7afe87251855e7b2939e87d6934034   51.515897   -0.204797        51.520986   \n",
       "2  d5651d9abc4a757b40ac3dcf70a837e0   51.535891   -0.205417        51.535138   \n",
       "3  939f71635ccbb759c05ffd8dea59fee6   51.489974   -0.162701        51.492780   \n",
       "4  0ceb8f47864a220f07157cff0ed18b9a   51.521655   -0.134368        51.531419   \n",
       "\n",
       "   offset_drop_lon  \n",
       "0        -0.175581  \n",
       "1        -0.166067  \n",
       "2        -0.211440  \n",
       "3        -0.166601  \n",
       "4        -0.120289  "
      ]
     },
     "execution_count": 77,
     "metadata": {},
     "output_type": "execute_result"
    }
   ],
   "source": [
    "inputdata.head()"
   ]
  },
  {
   "cell_type": "markdown",
   "metadata": {},
   "source": [
    "### Lists"
   ]
  },
  {
   "cell_type": "code",
   "execution_count": 78,
   "metadata": {},
   "outputs": [],
   "source": [
    "job_ID = [inputdata['encr_job_id']]\n",
    "job_kind = [inputdata['job_kind']]\n",
    "delivery_lon = [inputdata['offset_drop_lon']]\n",
    "delivery_lat = [inputdata['offset_drop_lat']]"
   ]
  },
  {
   "cell_type": "markdown",
   "metadata": {},
   "source": [
    "# Shift data "
   ]
  },
  {
   "cell_type": "code",
   "execution_count": 60,
   "metadata": {},
   "outputs": [],
   "source": [
    "path = 'Shiftsdataforselectedday (1).csv'\n",
    "inputdata = pd.read_csv(path)"
   ]
  },
  {
   "cell_type": "code",
   "execution_count": 61,
   "metadata": {
    "scrolled": true
   },
   "outputs": [
    {
     "data": {
      "text/html": [
       "<div>\n",
       "<table border=\"1\" class=\"dataframe\">\n",
       "  <thead>\n",
       "    <tr style=\"text-align: right;\">\n",
       "      <th></th>\n",
       "      <th>disg_shift_id</th>\n",
       "      <th>disg_courier_id</th>\n",
       "      <th>shift_start_time</th>\n",
       "      <th>shift_end_time</th>\n",
       "      <th>starting_lon</th>\n",
       "      <th>starting_lat</th>\n",
       "    </tr>\n",
       "  </thead>\n",
       "  <tbody>\n",
       "    <tr>\n",
       "      <th>0</th>\n",
       "      <td>1</td>\n",
       "      <td>139</td>\n",
       "      <td>10/06/2019 11:00</td>\n",
       "      <td>10/06/2019 21:00</td>\n",
       "      <td>-0.076223</td>\n",
       "      <td>51.524128</td>\n",
       "    </tr>\n",
       "    <tr>\n",
       "      <th>1</th>\n",
       "      <td>2</td>\n",
       "      <td>150</td>\n",
       "      <td>10/06/2019 11:00</td>\n",
       "      <td>10/06/2019 21:00</td>\n",
       "      <td>-0.123455</td>\n",
       "      <td>51.515900</td>\n",
       "    </tr>\n",
       "    <tr>\n",
       "      <th>2</th>\n",
       "      <td>3</td>\n",
       "      <td>151</td>\n",
       "      <td>10/06/2019 11:05</td>\n",
       "      <td>10/06/2019 21:05</td>\n",
       "      <td>-0.076223</td>\n",
       "      <td>51.524128</td>\n",
       "    </tr>\n",
       "    <tr>\n",
       "      <th>3</th>\n",
       "      <td>4</td>\n",
       "      <td>163</td>\n",
       "      <td>10/06/2019 14:00</td>\n",
       "      <td>10/06/2019 17:06</td>\n",
       "      <td>-0.163983</td>\n",
       "      <td>51.475052</td>\n",
       "    </tr>\n",
       "    <tr>\n",
       "      <th>4</th>\n",
       "      <td>5</td>\n",
       "      <td>175</td>\n",
       "      <td>10/06/2019 11:00</td>\n",
       "      <td>10/06/2019 21:15</td>\n",
       "      <td>-0.163983</td>\n",
       "      <td>51.475052</td>\n",
       "    </tr>\n",
       "  </tbody>\n",
       "</table>\n",
       "</div>"
      ],
      "text/plain": [
       "   disg_shift_id  disg_courier_id  shift_start_time    shift_end_time  \\\n",
       "0              1              139  10/06/2019 11:00  10/06/2019 21:00   \n",
       "1              2              150  10/06/2019 11:00  10/06/2019 21:00   \n",
       "2              3              151  10/06/2019 11:05  10/06/2019 21:05   \n",
       "3              4              163  10/06/2019 14:00  10/06/2019 17:06   \n",
       "4              5              175  10/06/2019 11:00  10/06/2019 21:15   \n",
       "\n",
       "   starting_lon  starting_lat  \n",
       "0     -0.076223     51.524128  \n",
       "1     -0.123455     51.515900  \n",
       "2     -0.076223     51.524128  \n",
       "3     -0.163983     51.475052  \n",
       "4     -0.163983     51.475052  "
      ]
     },
     "execution_count": 61,
     "metadata": {},
     "output_type": "execute_result"
    }
   ],
   "source": [
    "inputdata.head()"
   ]
  },
  {
   "cell_type": "markdown",
   "metadata": {},
   "source": [
    "### Lists"
   ]
  },
  {
   "cell_type": "code",
   "execution_count": 62,
   "metadata": {
    "collapsed": true
   },
   "outputs": [],
   "source": [
    "courier_ID = [inputdata['disg_courier_id']]\n",
    "shift_start = [inputdata['shift_start_time']]\n",
    "shift_end = [inputdata['shift_end_time']]"
   ]
  },
  {
   "cell_type": "markdown",
   "metadata": {},
   "source": [
    "### Parameters"
   ]
  },
  {
   "cell_type": "code",
   "execution_count": 11,
   "metadata": {
    "collapsed": true
   },
   "outputs": [],
   "source": [
    "#Parameters\n",
    "pickup_timeout_bike_scooter = 30\n",
    "delivery_timeout_bike_scooter = 30\n",
    "pickup_timeout_car = 60\n",
    "delivery_timeout_car = 60\n",
    "SLA_start_to_pickup = 15 #time only taken into account while driver is on the move\n",
    "SLA_pickup_to_delivery = 15 #it does not take into account waiting time at pickup of driver\n",
    "SLA_satisfy = 0.95 #90%-95% of SLAs must be satisfied --> 0.05 instead of 0.95?\n",
    "gm_raduis = 5000 #5000m radius search to allocate driver to job"
   ]
  },
  {
   "cell_type": "code",
   "execution_count": null,
   "metadata": {
    "collapsed": true
   },
   "outputs": [],
   "source": []
  }
 ],
 "metadata": {
  "anaconda-cloud": {},
  "kernelspec": {
   "display_name": "Python [default]",
   "language": "python",
   "name": "python3"
  },
  "language_info": {
   "codemirror_mode": {
    "name": "ipython",
    "version": 3
   },
   "file_extension": ".py",
   "mimetype": "text/x-python",
   "name": "python",
   "nbconvert_exporter": "python",
   "pygments_lexer": "ipython3",
   "version": "3.5.2"
  }
 },
 "nbformat": 4,
 "nbformat_minor": 1
}
